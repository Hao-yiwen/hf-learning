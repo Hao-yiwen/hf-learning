{
 "cells": [
  {
   "cell_type": "markdown",
   "id": "6a62ecd6",
   "metadata": {},
   "source": [
    "# Big data? 🤗 Datasets to the rescue!"
   ]
  },
  {
   "cell_type": "code",
   "execution_count": 1,
   "id": "7689a241",
   "metadata": {},
   "outputs": [],
   "source": [
    "import os\n",
    "\n",
    "# 设置代理\n",
    "os.environ['http_proxy'] = 'http://127.0.0.1:7893'\n",
    "os.environ['https_proxy'] = 'http://127.0.0.1:7893'\n",
    "os.environ['HTTP_PROXY'] = 'http://127.0.0.1:7893'\n",
    "os.environ['HTTPS_PROXY'] = 'http://127.0.0.1:7893'\n",
    "os.environ['no_proxy'] = '127.0.0.1,localhost'\n",
    "os.environ['NO_PROXY'] = '127.0.0.1,localhost'"
   ]
  },
  {
   "cell_type": "code",
   "execution_count": 5,
   "id": "54c83fba",
   "metadata": {},
   "outputs": [
    {
     "name": "stdout",
     "output_type": "stream",
     "text": [
      "Looking in indexes: http://mirrors.aliyun.com/pypi/simple\n",
      "Requirement already satisfied: zstandard in /root/miniconda3/lib/python3.12/site-packages (0.22.0)\n",
      "\u001b[31mERROR: Operation cancelled by user\u001b[0m\u001b[31m\n",
      "\u001b[0m^C\n"
     ]
    }
   ],
   "source": [
    "!pip install zstandard"
   ]
  },
  {
   "cell_type": "code",
   "execution_count": null,
   "id": "3cf01b86",
   "metadata": {},
   "outputs": [
    {
     "name": "stdout",
     "output_type": "stream",
     "text": [
      "Looking in indexes: http://mirrors.aliyun.com/pypi/simple\n",
      "Requirement already satisfied: requests in /root/miniconda3/lib/python3.12/site-packages (2.32.5)\n",
      "Requirement already satisfied: charset_normalizer<4,>=2 in /root/miniconda3/lib/python3.12/site-packages (from requests) (2.0.4)\n",
      "Requirement already satisfied: idna<4,>=2.5 in /root/miniconda3/lib/python3.12/site-packages (from requests) (3.7)\n",
      "Requirement already satisfied: urllib3<3,>=1.21.1 in /root/miniconda3/lib/python3.12/site-packages (from requests) (2.1.0)\n",
      "Requirement already satisfied: certifi>=2017.4.17 in /root/miniconda3/lib/python3.12/site-packages (from requests) (2024.2.2)\n",
      "\u001b[33mWARNING: Running pip as the 'root' user can result in broken permissions and conflicting behaviour with the system package manager. It is recommended to use a virtual environment instead: https://pip.pypa.io/warnings/venv\u001b[0m\u001b[33m\n",
      "\u001b[0m"
     ]
    }
   ],
   "source": [
    "!pip install requests"
   ]
  },
  {
   "cell_type": "code",
   "execution_count": null,
   "id": "7afe21fd",
   "metadata": {},
   "outputs": [
    {
     "name": "stdout",
     "output_type": "stream",
     "text": [
      "请求成功，状态码: 200\n",
      "响应内容: [{'url': 'https://api.github.com/repos/huggingface/datasets/issues/7785', 'repository_url': 'https://api.github.com/repos/huggingface/datasets', 'labels_url': 'https://api.github.com/repos/huggingface/datasets/issues/7785/labels{/name}', 'comments_url': 'https://api.github.com/repos/huggingface/datasets/issues/7785/comments', 'events_url': 'https://api.github.com/repos/huggingface/datasets/issues/7785/events', 'html_url': 'https://github.com/huggingface/datasets/pull/7785', 'id': 3439897018, 'node_id': 'PR_kwDODunzps6pyTM_', 'number': 7785, 'title': 'Fix Audio docstring by removing unsupported mono argument', 'user': {'login': 'tanuj-rai', 'id': 84439872, 'node_id': 'MDQ6VXNlcjg0NDM5ODcy', 'avatar_url': 'https://avatars.githubusercontent.com/u/84439872?v=4', 'gravatar_id': '', 'url': 'https://api.github.com/users/tanuj-rai', 'html_url': 'https://github.com/tanuj-rai', 'followers_url': 'https://api.github.com/users/tanuj-rai/followers', 'following_url': 'https://api.github.com/users/tanuj-rai/following{/other_user}', 'gists_url': 'https://api.github.com/users/tanuj-rai/gists{/gist_id}', 'starred_url': 'https://api.github.com/users/tanuj-rai/starred{/owner}{/repo}', 'subscriptions_url': 'https://api.github.com/users/tanuj-rai/subscriptions', 'organizations_url': 'https://api.github.com/users/tanuj-rai/orgs', 'repos_url': 'https://api.github.com/users/tanuj-rai/repos', 'events_url': 'https://api.github.com/users/tanuj-rai/events{/privacy}', 'received_events_url': 'https://api.github.com/users/tanuj-rai/received_events', 'type': 'User', 'user_view_type': 'public', 'site_admin': False}, 'labels': [], 'state': 'open', 'locked': False, 'assignee': None, 'assignees': [], 'milestone': None, 'comments': 2, 'created_at': '2025-09-22T09:06:52Z', 'updated_at': '2025-09-23T09:57:37Z', 'closed_at': None, 'author_association': 'CONTRIBUTOR', 'type': None, 'active_lock_reason': None, 'draft': False, 'pull_request': {'url': 'https://api.github.com/repos/huggingface/datasets/pulls/7785', 'html_url': 'https://github.com/huggingface/datasets/pull/7785', 'diff_url': 'https://github.com/huggingface/datasets/pull/7785.diff', 'patch_url': 'https://github.com/huggingface/datasets/pull/7785.patch', 'merged_at': None}, 'body': 'This PR fixes issue #7745.\\r\\n\\r\\nWho can review:\\r\\n@lhoestq ', 'closed_by': None, 'reactions': {'url': 'https://api.github.com/repos/huggingface/datasets/issues/7785/reactions', 'total_count': 0, '+1': 0, '-1': 0, 'laugh': 0, 'hooray': 0, 'confused': 0, 'heart': 0, 'rocket': 0, 'eyes': 0}, 'timeline_url': 'https://api.github.com/repos/huggingface/datasets/issues/7785/timeline', 'performed_via_github_app': None, 'state_reason': None}]\n"
     ]
    }
   ],
   "source": [
    "import os\n",
    "import requests\n",
    "import ssl\n",
    "from urllib3.util.ssl_ import create_urllib3_context\n",
    "\n",
    "# 方案1：配置代理和SSL设置\n",
    "def setup_proxy_and_ssl():\n",
    "    # 设置代理\n",
    "    os.environ['http_proxy'] = 'http://127.0.0.1:7893'\n",
    "    os.environ['https_proxy'] = 'http://127.0.0.1:7893'\n",
    "    os.environ['HTTP_PROXY'] = 'http://127.0.0.1:7893'\n",
    "    os.environ['HTTPS_PROXY'] = 'http://127.0.0.1:7893'\n",
    "    os.environ['no_proxy'] = '127.0.0.1,localhost'\n",
    "    os.environ['NO_PROXY'] = '127.0.0.1,localhost'\n",
    "    \n",
    "    # 创建一个session并配置SSL\n",
    "    session = requests.Session()\n",
    "    \n",
    "    # 配置代理\n",
    "    proxies = {\n",
    "        'http': 'http://127.0.0.1:7893',\n",
    "        'https': 'http://127.0.0.1:7893'\n",
    "    }\n",
    "    session.proxies.update(proxies)\n",
    "    \n",
    "    # 禁用SSL验证（仅用于测试）\n",
    "    session.verify = False\n",
    "    \n",
    "    # 禁用SSL警告\n",
    "    import urllib3\n",
    "    urllib3.disable_warnings(urllib3.exceptions.InsecureRequestWarning)\n",
    "    \n",
    "    return session\n",
    "\n",
    "# 使用配置好的session\n",
    "session = setup_proxy_and_ssl()\n",
    "\n",
    "try:\n",
    "    url = \"https://api.github.com/repos/huggingface/datasets/issues?page=1&per_page=1\"\n",
    "    response = session.get(url, timeout=30)\n",
    "    print(f\"请求成功，状态码: {response.status_code}\")\n",
    "    print(f\"响应内容: {response.json()}\")\n",
    "except Exception as e:\n",
    "    print(f\"请求失败: {e}\")"
   ]
  },
  {
   "cell_type": "code",
   "execution_count": null,
   "id": "f99a4e16",
   "metadata": {},
   "outputs": [
    {
     "data": {
      "text/plain": [
       "[{'url': 'https://api.github.com/repos/huggingface/datasets/issues/7785',\n",
       "  'repository_url': 'https://api.github.com/repos/huggingface/datasets',\n",
       "  'labels_url': 'https://api.github.com/repos/huggingface/datasets/issues/7785/labels{/name}',\n",
       "  'comments_url': 'https://api.github.com/repos/huggingface/datasets/issues/7785/comments',\n",
       "  'events_url': 'https://api.github.com/repos/huggingface/datasets/issues/7785/events',\n",
       "  'html_url': 'https://github.com/huggingface/datasets/pull/7785',\n",
       "  'id': 3439897018,\n",
       "  'node_id': 'PR_kwDODunzps6pyTM_',\n",
       "  'number': 7785,\n",
       "  'title': 'Fix Audio docstring by removing unsupported mono argument',\n",
       "  'user': {'login': 'tanuj-rai',\n",
       "   'id': 84439872,\n",
       "   'node_id': 'MDQ6VXNlcjg0NDM5ODcy',\n",
       "   'avatar_url': 'https://avatars.githubusercontent.com/u/84439872?v=4',\n",
       "   'gravatar_id': '',\n",
       "   'url': 'https://api.github.com/users/tanuj-rai',\n",
       "   'html_url': 'https://github.com/tanuj-rai',\n",
       "   'followers_url': 'https://api.github.com/users/tanuj-rai/followers',\n",
       "   'following_url': 'https://api.github.com/users/tanuj-rai/following{/other_user}',\n",
       "   'gists_url': 'https://api.github.com/users/tanuj-rai/gists{/gist_id}',\n",
       "   'starred_url': 'https://api.github.com/users/tanuj-rai/starred{/owner}{/repo}',\n",
       "   'subscriptions_url': 'https://api.github.com/users/tanuj-rai/subscriptions',\n",
       "   'organizations_url': 'https://api.github.com/users/tanuj-rai/orgs',\n",
       "   'repos_url': 'https://api.github.com/users/tanuj-rai/repos',\n",
       "   'events_url': 'https://api.github.com/users/tanuj-rai/events{/privacy}',\n",
       "   'received_events_url': 'https://api.github.com/users/tanuj-rai/received_events',\n",
       "   'type': 'User',\n",
       "   'user_view_type': 'public',\n",
       "   'site_admin': False},\n",
       "  'labels': [],\n",
       "  'state': 'open',\n",
       "  'locked': False,\n",
       "  'assignee': None,\n",
       "  'assignees': [],\n",
       "  'milestone': None,\n",
       "  'comments': 2,\n",
       "  'created_at': '2025-09-22T09:06:52Z',\n",
       "  'updated_at': '2025-09-23T09:57:37Z',\n",
       "  'closed_at': None,\n",
       "  'author_association': 'CONTRIBUTOR',\n",
       "  'type': None,\n",
       "  'active_lock_reason': None,\n",
       "  'draft': False,\n",
       "  'pull_request': {'url': 'https://api.github.com/repos/huggingface/datasets/pulls/7785',\n",
       "   'html_url': 'https://github.com/huggingface/datasets/pull/7785',\n",
       "   'diff_url': 'https://github.com/huggingface/datasets/pull/7785.diff',\n",
       "   'patch_url': 'https://github.com/huggingface/datasets/pull/7785.patch',\n",
       "   'merged_at': None},\n",
       "  'body': 'This PR fixes issue #7745.\\r\\n\\r\\nWho can review:\\r\\n@lhoestq ',\n",
       "  'closed_by': None,\n",
       "  'reactions': {'url': 'https://api.github.com/repos/huggingface/datasets/issues/7785/reactions',\n",
       "   'total_count': 0,\n",
       "   '+1': 0,\n",
       "   '-1': 0,\n",
       "   'laugh': 0,\n",
       "   'hooray': 0,\n",
       "   'confused': 0,\n",
       "   'heart': 0,\n",
       "   'rocket': 0,\n",
       "   'eyes': 0},\n",
       "  'timeline_url': 'https://api.github.com/repos/huggingface/datasets/issues/7785/timeline',\n",
       "  'performed_via_github_app': None,\n",
       "  'state_reason': None}]"
      ]
     },
     "execution_count": 5,
     "metadata": {},
     "output_type": "execute_result"
    }
   ],
   "source": [
    "response.json()"
   ]
  },
  {
   "cell_type": "code",
   "execution_count": null,
   "id": "e7eaf4b3",
   "metadata": {},
   "outputs": [],
   "source": [
    "GITHUB_TOKEN = \"xxx\"\n",
    "headers = {\"Authorization\": f\"token {GITHUB_TOKEN}\"}"
   ]
  },
  {
   "cell_type": "code",
   "execution_count": null,
   "id": "25de158a",
   "metadata": {},
   "outputs": [],
   "source": [
    "import time\n",
    "import math\n",
    "from pathlib import Path\n",
    "import pandas as pd\n",
    "from tqdm.notebook import tqdm\n",
    "import requests  # 添加缺失的requests导入\n",
    "\n",
    "\n",
    "def fetch_issues(\n",
    "    owner=\"huggingface\",\n",
    "    repo=\"datasets\",\n",
    "    num_issues=10_000,\n",
    "    rate_limit=5_000,\n",
    "    issues_path=Path(\".\"),\n",
    "    session=None,  # 添加session参数\n",
    "    headers=None,  # 添加headers参数\n",
    "):\n",
    "    if not issues_path.is_dir():\n",
    "        issues_path.mkdir(exist_ok=True)\n",
    "\n",
    "    # 使用传入的session或创建新的\n",
    "    if session is None:\n",
    "        session = requests.Session()\n",
    "        # 如果没有传入session，使用之前配置的代理设置\n",
    "        session = setup_proxy_and_ssl()\n",
    "    \n",
    "    # 如果没有传入headers，使用默认的（不需要token进行基本查询）\n",
    "    if headers is None:\n",
    "        headers = {}\n",
    "\n",
    "    batch = []\n",
    "    all_issues = []\n",
    "    per_page = 100  # Number of issues to return per page\n",
    "    num_pages = math.ceil(num_issues / per_page)\n",
    "    base_url = \"https://api.github.com/repos\"\n",
    "\n",
    "    for page in tqdm(range(num_pages)):\n",
    "        try:\n",
    "            # Query with state=all to get both open and closed issues\n",
    "            query = f\"issues?page={page}&per_page={per_page}&state=all\"\n",
    "            url = f\"{base_url}/{owner}/{repo}/{query}\"\n",
    "            \n",
    "            # 使用session发送请求\n",
    "            response = session.get(url, headers=headers, timeout=30)\n",
    "            \n",
    "            # 检查响应状态\n",
    "            if response.status_code == 200:\n",
    "                issues_data = response.json()\n",
    "                batch.extend(issues_data)\n",
    "            elif response.status_code == 403:\n",
    "                print(f\"Rate limit exceeded. Status: {response.status_code}\")\n",
    "                print(\"Sleeping for one hour...\")\n",
    "                time.sleep(60 * 60 + 1)\n",
    "                continue\n",
    "            else:\n",
    "                print(f\"Request failed with status: {response.status_code}\")\n",
    "                print(f\"Response: {response.text[:200]}...\")\n",
    "                break\n",
    "                \n",
    "        except Exception as e:\n",
    "            print(f\"Error fetching page {page}: {e}\")\n",
    "            break\n",
    "\n",
    "        if len(batch) > rate_limit and len(all_issues) < num_issues:\n",
    "            all_issues.extend(batch)\n",
    "            batch = []  # Flush batch for next time period\n",
    "            print(f\"Reached GitHub rate limit. Sleeping for one hour ...\")\n",
    "            time.sleep(60 * 60 + 1)\n",
    "\n",
    "    all_issues.extend(batch)\n",
    "    \n",
    "    if all_issues:\n",
    "        df = pd.DataFrame.from_records(all_issues)\n",
    "        output_file = f\"{issues_path}/{repo}-issues.jsonl\"\n",
    "        df.to_json(output_file, orient=\"records\", lines=True)\n",
    "        print(f\"Downloaded {len(all_issues)} issues for {repo}! Dataset stored at {output_file}\")\n",
    "        return df\n",
    "    else:\n",
    "        print(\"No issues were downloaded.\")\n",
    "        return None"
   ]
  },
  {
   "cell_type": "code",
   "execution_count": null,
   "id": "f42ca2a7",
   "metadata": {},
   "outputs": [
    {
     "data": {
      "application/vnd.jupyter.widget-view+json": {
       "model_id": "ea100d4503af4ad9a92e86cce3a9b834",
       "version_major": 2,
       "version_minor": 0
      },
      "text/plain": [
       "  0%|          | 0/100 [00:00<?, ?it/s]"
      ]
     },
     "metadata": {},
     "output_type": "display_data"
    },
    {
     "name": "stdout",
     "output_type": "stream",
     "text": [
      "Request failed with status: 422\n",
      "Response: {\"message\":\"Pagination with the page parameter is not supported for large datasets, please use cursor based pagination (after/before)\",\"documentation_url\":\"https://docs.github.com/rest/issues/issues#l...\n",
      "Downloaded 1100 issues for datasets! Dataset stored at ./datasets-issues.jsonl\n"
     ]
    },
    {
     "data": {
      "text/html": [
       "<div>\n",
       "<style scoped>\n",
       "    .dataframe tbody tr th:only-of-type {\n",
       "        vertical-align: middle;\n",
       "    }\n",
       "\n",
       "    .dataframe tbody tr th {\n",
       "        vertical-align: top;\n",
       "    }\n",
       "\n",
       "    .dataframe thead th {\n",
       "        text-align: right;\n",
       "    }\n",
       "</style>\n",
       "<table border=\"1\" class=\"dataframe\">\n",
       "  <thead>\n",
       "    <tr style=\"text-align: right;\">\n",
       "      <th></th>\n",
       "      <th>url</th>\n",
       "      <th>repository_url</th>\n",
       "      <th>labels_url</th>\n",
       "      <th>comments_url</th>\n",
       "      <th>events_url</th>\n",
       "      <th>html_url</th>\n",
       "      <th>id</th>\n",
       "      <th>node_id</th>\n",
       "      <th>number</th>\n",
       "      <th>title</th>\n",
       "      <th>...</th>\n",
       "      <th>draft</th>\n",
       "      <th>pull_request</th>\n",
       "      <th>body</th>\n",
       "      <th>closed_by</th>\n",
       "      <th>reactions</th>\n",
       "      <th>timeline_url</th>\n",
       "      <th>performed_via_github_app</th>\n",
       "      <th>state_reason</th>\n",
       "      <th>sub_issues_summary</th>\n",
       "      <th>issue_dependencies_summary</th>\n",
       "    </tr>\n",
       "  </thead>\n",
       "  <tbody>\n",
       "    <tr>\n",
       "      <th>0</th>\n",
       "      <td>https://api.github.com/repos/huggingface/datas...</td>\n",
       "      <td>https://api.github.com/repos/huggingface/datasets</td>\n",
       "      <td>https://api.github.com/repos/huggingface/datas...</td>\n",
       "      <td>https://api.github.com/repos/huggingface/datas...</td>\n",
       "      <td>https://api.github.com/repos/huggingface/datas...</td>\n",
       "      <td>https://github.com/huggingface/datasets/pull/7785</td>\n",
       "      <td>3439897018</td>\n",
       "      <td>PR_kwDODunzps6pyTM_</td>\n",
       "      <td>7785</td>\n",
       "      <td>Fix Audio docstring by removing unsupported mo...</td>\n",
       "      <td>...</td>\n",
       "      <td>False</td>\n",
       "      <td>{'url': 'https://api.github.com/repos/huggingf...</td>\n",
       "      <td>This PR fixes issue #7745.\\r\\n\\r\\nWho can revi...</td>\n",
       "      <td>None</td>\n",
       "      <td>{'url': 'https://api.github.com/repos/huggingf...</td>\n",
       "      <td>https://api.github.com/repos/huggingface/datas...</td>\n",
       "      <td>None</td>\n",
       "      <td>None</td>\n",
       "      <td>NaN</td>\n",
       "      <td>NaN</td>\n",
       "    </tr>\n",
       "    <tr>\n",
       "      <th>1</th>\n",
       "      <td>https://api.github.com/repos/huggingface/datas...</td>\n",
       "      <td>https://api.github.com/repos/huggingface/datasets</td>\n",
       "      <td>https://api.github.com/repos/huggingface/datas...</td>\n",
       "      <td>https://api.github.com/repos/huggingface/datas...</td>\n",
       "      <td>https://api.github.com/repos/huggingface/datas...</td>\n",
       "      <td>https://github.com/huggingface/datasets/pull/7783</td>\n",
       "      <td>3430715779</td>\n",
       "      <td>PR_kwDODunzps6pT7pg</td>\n",
       "      <td>7783</td>\n",
       "      <td>Adapt and test huggingface_hub v1.0.0.rc0</td>\n",
       "      <td>...</td>\n",
       "      <td>True</td>\n",
       "      <td>{'url': 'https://api.github.com/repos/huggingf...</td>\n",
       "      <td>Test as part of https://github.com/huggingface...</td>\n",
       "      <td>None</td>\n",
       "      <td>{'url': 'https://api.github.com/repos/huggingf...</td>\n",
       "      <td>https://api.github.com/repos/huggingface/datas...</td>\n",
       "      <td>None</td>\n",
       "      <td>None</td>\n",
       "      <td>NaN</td>\n",
       "      <td>NaN</td>\n",
       "    </tr>\n",
       "    <tr>\n",
       "      <th>2</th>\n",
       "      <td>https://api.github.com/repos/huggingface/datas...</td>\n",
       "      <td>https://api.github.com/repos/huggingface/datasets</td>\n",
       "      <td>https://api.github.com/repos/huggingface/datas...</td>\n",
       "      <td>https://api.github.com/repos/huggingface/datas...</td>\n",
       "      <td>https://api.github.com/repos/huggingface/datas...</td>\n",
       "      <td>https://github.com/huggingface/datasets/pull/7782</td>\n",
       "      <td>3430341875</td>\n",
       "      <td>PR_kwDODunzps6pSozj</td>\n",
       "      <td>7782</td>\n",
       "      <td>set dev version</td>\n",
       "      <td>...</td>\n",
       "      <td>False</td>\n",
       "      <td>{'url': 'https://api.github.com/repos/huggingf...</td>\n",
       "      <td>None</td>\n",
       "      <td>{'login': 'lhoestq', 'id': 42851186, 'node_id'...</td>\n",
       "      <td>{'url': 'https://api.github.com/repos/huggingf...</td>\n",
       "      <td>https://api.github.com/repos/huggingface/datas...</td>\n",
       "      <td>None</td>\n",
       "      <td>None</td>\n",
       "      <td>NaN</td>\n",
       "      <td>NaN</td>\n",
       "    </tr>\n",
       "    <tr>\n",
       "      <th>3</th>\n",
       "      <td>https://api.github.com/repos/huggingface/datas...</td>\n",
       "      <td>https://api.github.com/repos/huggingface/datasets</td>\n",
       "      <td>https://api.github.com/repos/huggingface/datas...</td>\n",
       "      <td>https://api.github.com/repos/huggingface/datas...</td>\n",
       "      <td>https://api.github.com/repos/huggingface/datas...</td>\n",
       "      <td>https://github.com/huggingface/datasets/pull/7781</td>\n",
       "      <td>3430332841</td>\n",
       "      <td>PR_kwDODunzps6pSm0C</td>\n",
       "      <td>7781</td>\n",
       "      <td>release: 4.1.1</td>\n",
       "      <td>...</td>\n",
       "      <td>False</td>\n",
       "      <td>{'url': 'https://api.github.com/repos/huggingf...</td>\n",
       "      <td>None</td>\n",
       "      <td>{'login': 'lhoestq', 'id': 42851186, 'node_id'...</td>\n",
       "      <td>{'url': 'https://api.github.com/repos/huggingf...</td>\n",
       "      <td>https://api.github.com/repos/huggingface/datas...</td>\n",
       "      <td>None</td>\n",
       "      <td>None</td>\n",
       "      <td>NaN</td>\n",
       "      <td>NaN</td>\n",
       "    </tr>\n",
       "    <tr>\n",
       "      <th>4</th>\n",
       "      <td>https://api.github.com/repos/huggingface/datas...</td>\n",
       "      <td>https://api.github.com/repos/huggingface/datasets</td>\n",
       "      <td>https://api.github.com/repos/huggingface/datas...</td>\n",
       "      <td>https://api.github.com/repos/huggingface/datas...</td>\n",
       "      <td>https://api.github.com/repos/huggingface/datas...</td>\n",
       "      <td>https://github.com/huggingface/datasets/issues...</td>\n",
       "      <td>3429267259</td>\n",
       "      <td>I_kwDODunzps7MZnc7</td>\n",
       "      <td>7780</td>\n",
       "      <td>BIGPATENT dataset inaccessible (deprecated scr...</td>\n",
       "      <td>...</td>\n",
       "      <td>NaN</td>\n",
       "      <td>NaN</td>\n",
       "      <td>dataset: https://huggingface.co/datasets/North...</td>\n",
       "      <td>None</td>\n",
       "      <td>{'url': 'https://api.github.com/repos/huggingf...</td>\n",
       "      <td>https://api.github.com/repos/huggingface/datas...</td>\n",
       "      <td>None</td>\n",
       "      <td>None</td>\n",
       "      <td>{'total': 0, 'completed': 0, 'percent_complete...</td>\n",
       "      <td>{'blocked_by': 0, 'total_blocked_by': 0, 'bloc...</td>\n",
       "    </tr>\n",
       "    <tr>\n",
       "      <th>...</th>\n",
       "      <td>...</td>\n",
       "      <td>...</td>\n",
       "      <td>...</td>\n",
       "      <td>...</td>\n",
       "      <td>...</td>\n",
       "      <td>...</td>\n",
       "      <td>...</td>\n",
       "      <td>...</td>\n",
       "      <td>...</td>\n",
       "      <td>...</td>\n",
       "      <td>...</td>\n",
       "      <td>...</td>\n",
       "      <td>...</td>\n",
       "      <td>...</td>\n",
       "      <td>...</td>\n",
       "      <td>...</td>\n",
       "      <td>...</td>\n",
       "      <td>...</td>\n",
       "      <td>...</td>\n",
       "      <td>...</td>\n",
       "      <td>...</td>\n",
       "    </tr>\n",
       "    <tr>\n",
       "      <th>1095</th>\n",
       "      <td>https://api.github.com/repos/huggingface/datas...</td>\n",
       "      <td>https://api.github.com/repos/huggingface/datasets</td>\n",
       "      <td>https://api.github.com/repos/huggingface/datas...</td>\n",
       "      <td>https://api.github.com/repos/huggingface/datas...</td>\n",
       "      <td>https://api.github.com/repos/huggingface/datas...</td>\n",
       "      <td>https://github.com/huggingface/datasets/pull/6749</td>\n",
       "      <td>2202310116</td>\n",
       "      <td>PR_kwDODunzps5qeoSk</td>\n",
       "      <td>6749</td>\n",
       "      <td>Fix fsspec tqdm callback</td>\n",
       "      <td>...</td>\n",
       "      <td>False</td>\n",
       "      <td>{'url': 'https://api.github.com/repos/huggingf...</td>\n",
       "      <td>Following changes at https://github.com/fsspec...</td>\n",
       "      <td>{'login': 'lhoestq', 'id': 42851186, 'node_id'...</td>\n",
       "      <td>{'url': 'https://api.github.com/repos/huggingf...</td>\n",
       "      <td>https://api.github.com/repos/huggingface/datas...</td>\n",
       "      <td>None</td>\n",
       "      <td>None</td>\n",
       "      <td>NaN</td>\n",
       "      <td>NaN</td>\n",
       "    </tr>\n",
       "    <tr>\n",
       "      <th>1096</th>\n",
       "      <td>https://api.github.com/repos/huggingface/datas...</td>\n",
       "      <td>https://api.github.com/repos/huggingface/datasets</td>\n",
       "      <td>https://api.github.com/repos/huggingface/datas...</td>\n",
       "      <td>https://api.github.com/repos/huggingface/datas...</td>\n",
       "      <td>https://api.github.com/repos/huggingface/datas...</td>\n",
       "      <td>https://github.com/huggingface/datasets/issues...</td>\n",
       "      <td>2201517348</td>\n",
       "      <td>I_kwDODunzps6DOH0k</td>\n",
       "      <td>6748</td>\n",
       "      <td>Strange slicing behavior</td>\n",
       "      <td>...</td>\n",
       "      <td>NaN</td>\n",
       "      <td>NaN</td>\n",
       "      <td>### Describe the bug\\n\\nI have loaded a datase...</td>\n",
       "      <td>None</td>\n",
       "      <td>{'url': 'https://api.github.com/repos/huggingf...</td>\n",
       "      <td>https://api.github.com/repos/huggingface/datas...</td>\n",
       "      <td>None</td>\n",
       "      <td>None</td>\n",
       "      <td>{'total': 0, 'completed': 0, 'percent_complete...</td>\n",
       "      <td>{'blocked_by': 0, 'total_blocked_by': 0, 'bloc...</td>\n",
       "    </tr>\n",
       "    <tr>\n",
       "      <th>1097</th>\n",
       "      <td>https://api.github.com/repos/huggingface/datas...</td>\n",
       "      <td>https://api.github.com/repos/huggingface/datasets</td>\n",
       "      <td>https://api.github.com/repos/huggingface/datas...</td>\n",
       "      <td>https://api.github.com/repos/huggingface/datas...</td>\n",
       "      <td>https://api.github.com/repos/huggingface/datas...</td>\n",
       "      <td>https://github.com/huggingface/datasets/pull/6747</td>\n",
       "      <td>2201219384</td>\n",
       "      <td>PR_kwDODunzps5qa5L-</td>\n",
       "      <td>6747</td>\n",
       "      <td>chore(deps): bump fsspec</td>\n",
       "      <td>...</td>\n",
       "      <td>False</td>\n",
       "      <td>{'url': 'https://api.github.com/repos/huggingf...</td>\n",
       "      <td>There were a few fixes released recently, some...</td>\n",
       "      <td>{'login': 'mariosasko', 'id': 47462742, 'node_...</td>\n",
       "      <td>{'url': 'https://api.github.com/repos/huggingf...</td>\n",
       "      <td>https://api.github.com/repos/huggingface/datas...</td>\n",
       "      <td>None</td>\n",
       "      <td>None</td>\n",
       "      <td>NaN</td>\n",
       "      <td>NaN</td>\n",
       "    </tr>\n",
       "    <tr>\n",
       "      <th>1098</th>\n",
       "      <td>https://api.github.com/repos/huggingface/datas...</td>\n",
       "      <td>https://api.github.com/repos/huggingface/datasets</td>\n",
       "      <td>https://api.github.com/repos/huggingface/datas...</td>\n",
       "      <td>https://api.github.com/repos/huggingface/datas...</td>\n",
       "      <td>https://api.github.com/repos/huggingface/datas...</td>\n",
       "      <td>https://github.com/huggingface/datasets/issues...</td>\n",
       "      <td>2198993949</td>\n",
       "      <td>I_kwDODunzps6DEfwd</td>\n",
       "      <td>6746</td>\n",
       "      <td>ExpectedMoreSplits error when loading C4 dataset</td>\n",
       "      <td>...</td>\n",
       "      <td>NaN</td>\n",
       "      <td>NaN</td>\n",
       "      <td>### Describe the bug\\n\\nI encounter bug when r...</td>\n",
       "      <td>{'login': 'albertvillanova', 'id': 8515462, 'n...</td>\n",
       "      <td>{'url': 'https://api.github.com/repos/huggingf...</td>\n",
       "      <td>https://api.github.com/repos/huggingface/datas...</td>\n",
       "      <td>None</td>\n",
       "      <td>completed</td>\n",
       "      <td>{'total': 0, 'completed': 0, 'percent_complete...</td>\n",
       "      <td>{'blocked_by': 0, 'total_blocked_by': 0, 'bloc...</td>\n",
       "    </tr>\n",
       "    <tr>\n",
       "      <th>1099</th>\n",
       "      <td>https://api.github.com/repos/huggingface/datas...</td>\n",
       "      <td>https://api.github.com/repos/huggingface/datasets</td>\n",
       "      <td>https://api.github.com/repos/huggingface/datas...</td>\n",
       "      <td>https://api.github.com/repos/huggingface/datas...</td>\n",
       "      <td>https://api.github.com/repos/huggingface/datas...</td>\n",
       "      <td>https://github.com/huggingface/datasets/issues...</td>\n",
       "      <td>2198541732</td>\n",
       "      <td>I_kwDODunzps6DCxWk</td>\n",
       "      <td>6745</td>\n",
       "      <td>Scraping the whole of github including private...</td>\n",
       "      <td>...</td>\n",
       "      <td>NaN</td>\n",
       "      <td>NaN</td>\n",
       "      <td>### Feature request\\r\\n\\r\\nhttps://github.com/...</td>\n",
       "      <td>{'login': 'lhoestq', 'id': 42851186, 'node_id'...</td>\n",
       "      <td>{'url': 'https://api.github.com/repos/huggingf...</td>\n",
       "      <td>https://api.github.com/repos/huggingface/datas...</td>\n",
       "      <td>None</td>\n",
       "      <td>completed</td>\n",
       "      <td>{'total': 0, 'completed': 0, 'percent_complete...</td>\n",
       "      <td>{'blocked_by': 0, 'total_blocked_by': 0, 'bloc...</td>\n",
       "    </tr>\n",
       "  </tbody>\n",
       "</table>\n",
       "<p>1100 rows × 34 columns</p>\n",
       "</div>"
      ],
      "text/plain": [
       "                                                    url  \\\n",
       "0     https://api.github.com/repos/huggingface/datas...   \n",
       "1     https://api.github.com/repos/huggingface/datas...   \n",
       "2     https://api.github.com/repos/huggingface/datas...   \n",
       "3     https://api.github.com/repos/huggingface/datas...   \n",
       "4     https://api.github.com/repos/huggingface/datas...   \n",
       "...                                                 ...   \n",
       "1095  https://api.github.com/repos/huggingface/datas...   \n",
       "1096  https://api.github.com/repos/huggingface/datas...   \n",
       "1097  https://api.github.com/repos/huggingface/datas...   \n",
       "1098  https://api.github.com/repos/huggingface/datas...   \n",
       "1099  https://api.github.com/repos/huggingface/datas...   \n",
       "\n",
       "                                         repository_url  \\\n",
       "0     https://api.github.com/repos/huggingface/datasets   \n",
       "1     https://api.github.com/repos/huggingface/datasets   \n",
       "2     https://api.github.com/repos/huggingface/datasets   \n",
       "3     https://api.github.com/repos/huggingface/datasets   \n",
       "4     https://api.github.com/repos/huggingface/datasets   \n",
       "...                                                 ...   \n",
       "1095  https://api.github.com/repos/huggingface/datasets   \n",
       "1096  https://api.github.com/repos/huggingface/datasets   \n",
       "1097  https://api.github.com/repos/huggingface/datasets   \n",
       "1098  https://api.github.com/repos/huggingface/datasets   \n",
       "1099  https://api.github.com/repos/huggingface/datasets   \n",
       "\n",
       "                                             labels_url  \\\n",
       "0     https://api.github.com/repos/huggingface/datas...   \n",
       "1     https://api.github.com/repos/huggingface/datas...   \n",
       "2     https://api.github.com/repos/huggingface/datas...   \n",
       "3     https://api.github.com/repos/huggingface/datas...   \n",
       "4     https://api.github.com/repos/huggingface/datas...   \n",
       "...                                                 ...   \n",
       "1095  https://api.github.com/repos/huggingface/datas...   \n",
       "1096  https://api.github.com/repos/huggingface/datas...   \n",
       "1097  https://api.github.com/repos/huggingface/datas...   \n",
       "1098  https://api.github.com/repos/huggingface/datas...   \n",
       "1099  https://api.github.com/repos/huggingface/datas...   \n",
       "\n",
       "                                           comments_url  \\\n",
       "0     https://api.github.com/repos/huggingface/datas...   \n",
       "1     https://api.github.com/repos/huggingface/datas...   \n",
       "2     https://api.github.com/repos/huggingface/datas...   \n",
       "3     https://api.github.com/repos/huggingface/datas...   \n",
       "4     https://api.github.com/repos/huggingface/datas...   \n",
       "...                                                 ...   \n",
       "1095  https://api.github.com/repos/huggingface/datas...   \n",
       "1096  https://api.github.com/repos/huggingface/datas...   \n",
       "1097  https://api.github.com/repos/huggingface/datas...   \n",
       "1098  https://api.github.com/repos/huggingface/datas...   \n",
       "1099  https://api.github.com/repos/huggingface/datas...   \n",
       "\n",
       "                                             events_url  \\\n",
       "0     https://api.github.com/repos/huggingface/datas...   \n",
       "1     https://api.github.com/repos/huggingface/datas...   \n",
       "2     https://api.github.com/repos/huggingface/datas...   \n",
       "3     https://api.github.com/repos/huggingface/datas...   \n",
       "4     https://api.github.com/repos/huggingface/datas...   \n",
       "...                                                 ...   \n",
       "1095  https://api.github.com/repos/huggingface/datas...   \n",
       "1096  https://api.github.com/repos/huggingface/datas...   \n",
       "1097  https://api.github.com/repos/huggingface/datas...   \n",
       "1098  https://api.github.com/repos/huggingface/datas...   \n",
       "1099  https://api.github.com/repos/huggingface/datas...   \n",
       "\n",
       "                                               html_url          id  \\\n",
       "0     https://github.com/huggingface/datasets/pull/7785  3439897018   \n",
       "1     https://github.com/huggingface/datasets/pull/7783  3430715779   \n",
       "2     https://github.com/huggingface/datasets/pull/7782  3430341875   \n",
       "3     https://github.com/huggingface/datasets/pull/7781  3430332841   \n",
       "4     https://github.com/huggingface/datasets/issues...  3429267259   \n",
       "...                                                 ...         ...   \n",
       "1095  https://github.com/huggingface/datasets/pull/6749  2202310116   \n",
       "1096  https://github.com/huggingface/datasets/issues...  2201517348   \n",
       "1097  https://github.com/huggingface/datasets/pull/6747  2201219384   \n",
       "1098  https://github.com/huggingface/datasets/issues...  2198993949   \n",
       "1099  https://github.com/huggingface/datasets/issues...  2198541732   \n",
       "\n",
       "                  node_id  number  \\\n",
       "0     PR_kwDODunzps6pyTM_    7785   \n",
       "1     PR_kwDODunzps6pT7pg    7783   \n",
       "2     PR_kwDODunzps6pSozj    7782   \n",
       "3     PR_kwDODunzps6pSm0C    7781   \n",
       "4      I_kwDODunzps7MZnc7    7780   \n",
       "...                   ...     ...   \n",
       "1095  PR_kwDODunzps5qeoSk    6749   \n",
       "1096   I_kwDODunzps6DOH0k    6748   \n",
       "1097  PR_kwDODunzps5qa5L-    6747   \n",
       "1098   I_kwDODunzps6DEfwd    6746   \n",
       "1099   I_kwDODunzps6DCxWk    6745   \n",
       "\n",
       "                                                  title  ...  draft  \\\n",
       "0     Fix Audio docstring by removing unsupported mo...  ...  False   \n",
       "1             Adapt and test huggingface_hub v1.0.0.rc0  ...   True   \n",
       "2                                       set dev version  ...  False   \n",
       "3                                        release: 4.1.1  ...  False   \n",
       "4     BIGPATENT dataset inaccessible (deprecated scr...  ...    NaN   \n",
       "...                                                 ...  ...    ...   \n",
       "1095                           Fix fsspec tqdm callback  ...  False   \n",
       "1096                           Strange slicing behavior  ...    NaN   \n",
       "1097                           chore(deps): bump fsspec  ...  False   \n",
       "1098   ExpectedMoreSplits error when loading C4 dataset  ...    NaN   \n",
       "1099  Scraping the whole of github including private...  ...    NaN   \n",
       "\n",
       "                                           pull_request  \\\n",
       "0     {'url': 'https://api.github.com/repos/huggingf...   \n",
       "1     {'url': 'https://api.github.com/repos/huggingf...   \n",
       "2     {'url': 'https://api.github.com/repos/huggingf...   \n",
       "3     {'url': 'https://api.github.com/repos/huggingf...   \n",
       "4                                                   NaN   \n",
       "...                                                 ...   \n",
       "1095  {'url': 'https://api.github.com/repos/huggingf...   \n",
       "1096                                                NaN   \n",
       "1097  {'url': 'https://api.github.com/repos/huggingf...   \n",
       "1098                                                NaN   \n",
       "1099                                                NaN   \n",
       "\n",
       "                                                   body  \\\n",
       "0     This PR fixes issue #7745.\\r\\n\\r\\nWho can revi...   \n",
       "1     Test as part of https://github.com/huggingface...   \n",
       "2                                                  None   \n",
       "3                                                  None   \n",
       "4     dataset: https://huggingface.co/datasets/North...   \n",
       "...                                                 ...   \n",
       "1095  Following changes at https://github.com/fsspec...   \n",
       "1096  ### Describe the bug\\n\\nI have loaded a datase...   \n",
       "1097  There were a few fixes released recently, some...   \n",
       "1098  ### Describe the bug\\n\\nI encounter bug when r...   \n",
       "1099  ### Feature request\\r\\n\\r\\nhttps://github.com/...   \n",
       "\n",
       "                                              closed_by  \\\n",
       "0                                                  None   \n",
       "1                                                  None   \n",
       "2     {'login': 'lhoestq', 'id': 42851186, 'node_id'...   \n",
       "3     {'login': 'lhoestq', 'id': 42851186, 'node_id'...   \n",
       "4                                                  None   \n",
       "...                                                 ...   \n",
       "1095  {'login': 'lhoestq', 'id': 42851186, 'node_id'...   \n",
       "1096                                               None   \n",
       "1097  {'login': 'mariosasko', 'id': 47462742, 'node_...   \n",
       "1098  {'login': 'albertvillanova', 'id': 8515462, 'n...   \n",
       "1099  {'login': 'lhoestq', 'id': 42851186, 'node_id'...   \n",
       "\n",
       "                                              reactions  \\\n",
       "0     {'url': 'https://api.github.com/repos/huggingf...   \n",
       "1     {'url': 'https://api.github.com/repos/huggingf...   \n",
       "2     {'url': 'https://api.github.com/repos/huggingf...   \n",
       "3     {'url': 'https://api.github.com/repos/huggingf...   \n",
       "4     {'url': 'https://api.github.com/repos/huggingf...   \n",
       "...                                                 ...   \n",
       "1095  {'url': 'https://api.github.com/repos/huggingf...   \n",
       "1096  {'url': 'https://api.github.com/repos/huggingf...   \n",
       "1097  {'url': 'https://api.github.com/repos/huggingf...   \n",
       "1098  {'url': 'https://api.github.com/repos/huggingf...   \n",
       "1099  {'url': 'https://api.github.com/repos/huggingf...   \n",
       "\n",
       "                                           timeline_url  \\\n",
       "0     https://api.github.com/repos/huggingface/datas...   \n",
       "1     https://api.github.com/repos/huggingface/datas...   \n",
       "2     https://api.github.com/repos/huggingface/datas...   \n",
       "3     https://api.github.com/repos/huggingface/datas...   \n",
       "4     https://api.github.com/repos/huggingface/datas...   \n",
       "...                                                 ...   \n",
       "1095  https://api.github.com/repos/huggingface/datas...   \n",
       "1096  https://api.github.com/repos/huggingface/datas...   \n",
       "1097  https://api.github.com/repos/huggingface/datas...   \n",
       "1098  https://api.github.com/repos/huggingface/datas...   \n",
       "1099  https://api.github.com/repos/huggingface/datas...   \n",
       "\n",
       "     performed_via_github_app  state_reason  \\\n",
       "0                        None          None   \n",
       "1                        None          None   \n",
       "2                        None          None   \n",
       "3                        None          None   \n",
       "4                        None          None   \n",
       "...                       ...           ...   \n",
       "1095                     None          None   \n",
       "1096                     None          None   \n",
       "1097                     None          None   \n",
       "1098                     None     completed   \n",
       "1099                     None     completed   \n",
       "\n",
       "                                     sub_issues_summary  \\\n",
       "0                                                   NaN   \n",
       "1                                                   NaN   \n",
       "2                                                   NaN   \n",
       "3                                                   NaN   \n",
       "4     {'total': 0, 'completed': 0, 'percent_complete...   \n",
       "...                                                 ...   \n",
       "1095                                                NaN   \n",
       "1096  {'total': 0, 'completed': 0, 'percent_complete...   \n",
       "1097                                                NaN   \n",
       "1098  {'total': 0, 'completed': 0, 'percent_complete...   \n",
       "1099  {'total': 0, 'completed': 0, 'percent_complete...   \n",
       "\n",
       "                             issue_dependencies_summary  \n",
       "0                                                   NaN  \n",
       "1                                                   NaN  \n",
       "2                                                   NaN  \n",
       "3                                                   NaN  \n",
       "4     {'blocked_by': 0, 'total_blocked_by': 0, 'bloc...  \n",
       "...                                                 ...  \n",
       "1095                                                NaN  \n",
       "1096  {'blocked_by': 0, 'total_blocked_by': 0, 'bloc...  \n",
       "1097                                                NaN  \n",
       "1098  {'blocked_by': 0, 'total_blocked_by': 0, 'bloc...  \n",
       "1099  {'blocked_by': 0, 'total_blocked_by': 0, 'bloc...  \n",
       "\n",
       "[1100 rows x 34 columns]"
      ]
     },
     "execution_count": 11,
     "metadata": {},
     "output_type": "execute_result"
    }
   ],
   "source": [
    "# Depending on your internet connection, this can take several minutes to run...\n",
    "fetch_issues()"
   ]
  },
  {
   "cell_type": "code",
   "execution_count": null,
   "id": "03b5bb7b",
   "metadata": {},
   "outputs": [
    {
     "data": {
      "application/vnd.jupyter.widget-view+json": {
       "model_id": "ef6b1ce3294c4ad691111dae0253df87",
       "version_major": 2,
       "version_minor": 0
      },
      "text/plain": [
       "Generating train split: 0 examples [00:00, ? examples/s]"
      ]
     },
     "metadata": {},
     "output_type": "display_data"
    },
    {
     "data": {
      "text/plain": [
       "Dataset({\n",
       "    features: ['url', 'repository_url', 'labels_url', 'comments_url', 'events_url', 'html_url', 'id', 'node_id', 'number', 'title', 'user', 'labels', 'state', 'locked', 'assignee', 'assignees', 'milestone', 'comments', 'created_at', 'updated_at', 'closed_at', 'author_association', 'type', 'active_lock_reason', 'draft', 'pull_request', 'body', 'closed_by', 'reactions', 'timeline_url', 'performed_via_github_app', 'state_reason', 'sub_issues_summary', 'issue_dependencies_summary'],\n",
       "    num_rows: 1100\n",
       "})"
      ]
     },
     "execution_count": 13,
     "metadata": {},
     "output_type": "execute_result"
    }
   ],
   "source": [
    "from datasets import load_dataset\n",
    "\n",
    "issues_dataset = load_dataset(\"json\", data_files=\"datasets-issues.jsonl\", split=\"train\")\n",
    "issues_dataset"
   ]
  },
  {
   "cell_type": "code",
   "execution_count": null,
   "id": "d64b6f77",
   "metadata": {},
   "outputs": [
    {
     "name": "stdout",
     "output_type": "stream",
     "text": [
      ">> URL: https://github.com/huggingface/datasets/pull/7158\n",
      ">> Pull request: {'url': 'https://api.github.com/repos/huggingface/datasets/pulls/7158', 'html_url': 'https://github.com/huggingface/datasets/pull/7158', 'diff_url': 'https://github.com/huggingface/datasets/pull/7158.diff', 'patch_url': 'https://github.com/huggingface/datasets/pull/7158.patch', 'merged_at': None}\n",
      "\n",
      ">> URL: https://github.com/huggingface/datasets/pull/7704\n",
      ">> Pull request: {'url': 'https://api.github.com/repos/huggingface/datasets/pulls/7704', 'html_url': 'https://github.com/huggingface/datasets/pull/7704', 'diff_url': 'https://github.com/huggingface/datasets/pull/7704.diff', 'patch_url': 'https://github.com/huggingface/datasets/pull/7704.patch', 'merged_at': None}\n",
      "\n",
      ">> URL: https://github.com/huggingface/datasets/issues/7430\n",
      ">> Pull request: None\n",
      "\n"
     ]
    }
   ],
   "source": [
    "sample = issues_dataset.shuffle(seed=666).select(range(3))\n",
    "\n",
    "# Print out the URL and pull request entries\n",
    "for url, pr in zip(sample[\"html_url\"], sample[\"pull_request\"]):\n",
    "    print(f\">> URL: {url}\")\n",
    "    print(f\">> Pull request: {pr}\\n\")"
   ]
  },
  {
   "cell_type": "code",
   "execution_count": null,
   "id": "0f6013e1",
   "metadata": {},
   "outputs": [
    {
     "data": {
      "application/vnd.jupyter.widget-view+json": {
       "model_id": "aadcbd6d48a94850a6cd392dc0e61604",
       "version_major": 2,
       "version_minor": 0
      },
      "text/plain": [
       "Map:   0%|          | 0/1100 [00:00<?, ? examples/s]"
      ]
     },
     "metadata": {},
     "output_type": "display_data"
    }
   ],
   "source": [
    "issues_dataset = issues_dataset.map(\n",
    "    lambda x: {\"is_pull_request\": False if x[\"pull_request\"] is None else True}\n",
    ")"
   ]
  },
  {
   "cell_type": "code",
   "execution_count": null,
   "id": "5ec312bf",
   "metadata": {},
   "outputs": [
    {
     "data": {
      "text/plain": [
       "[{'url': 'https://api.github.com/repos/huggingface/datasets/issues/comments/897594128',\n",
       "  'html_url': 'https://github.com/huggingface/datasets/pull/2792#issuecomment-897594128',\n",
       "  'issue_url': 'https://api.github.com/repos/huggingface/datasets/issues/2792',\n",
       "  'id': 897594128,\n",
       "  'node_id': 'IC_kwDODunzps41gDMQ',\n",
       "  'user': {'login': 'bhavitvyamalik',\n",
       "   'id': 19718818,\n",
       "   'node_id': 'MDQ6VXNlcjE5NzE4ODE4',\n",
       "   'avatar_url': 'https://avatars.githubusercontent.com/u/19718818?v=4',\n",
       "   'gravatar_id': '',\n",
       "   'url': 'https://api.github.com/users/bhavitvyamalik',\n",
       "   'html_url': 'https://github.com/bhavitvyamalik',\n",
       "   'followers_url': 'https://api.github.com/users/bhavitvyamalik/followers',\n",
       "   'following_url': 'https://api.github.com/users/bhavitvyamalik/following{/other_user}',\n",
       "   'gists_url': 'https://api.github.com/users/bhavitvyamalik/gists{/gist_id}',\n",
       "   'starred_url': 'https://api.github.com/users/bhavitvyamalik/starred{/owner}{/repo}',\n",
       "   'subscriptions_url': 'https://api.github.com/users/bhavitvyamalik/subscriptions',\n",
       "   'organizations_url': 'https://api.github.com/users/bhavitvyamalik/orgs',\n",
       "   'repos_url': 'https://api.github.com/users/bhavitvyamalik/repos',\n",
       "   'events_url': 'https://api.github.com/users/bhavitvyamalik/events{/privacy}',\n",
       "   'received_events_url': 'https://api.github.com/users/bhavitvyamalik/received_events',\n",
       "   'type': 'User',\n",
       "   'user_view_type': 'public',\n",
       "   'site_admin': False},\n",
       "  'created_at': '2021-08-12T12:21:52Z',\n",
       "  'updated_at': '2021-08-12T12:31:17Z',\n",
       "  'body': \"@albertvillanova my tests are failing here:\\r\\n```\\r\\ndataset_name = 'gooaq'\\r\\n\\r\\n    def test_load_dataset(self, dataset_name):\\r\\n        configs = self.dataset_tester.load_all_configs(dataset_name, is_local=True)[:1]\\r\\n>       self.dataset_tester.check_load_dataset(dataset_name, configs, is_local=True, use_local_dummy_data=True)\\r\\n\\r\\ntests/test_dataset_common.py:234: \\r\\n_ _ _ _ _ _ _ _ _ _ _ _ _ _ _ _ _ _ _ _ _ _ _ _ _ _ _ _ _ _ _ _ _ _ _ _ _ _ _ _ \\r\\ntests/test_dataset_common.py:187: in check_load_dataset\\r\\n    self.parent.assertTrue(len(dataset[split]) > 0)\\r\\nE   AssertionError: False is not true\\r\\n```\\r\\nWhen I try loading dataset on local machine it works fine. Any suggestions on how can I avoid this error?\",\n",
       "  'author_association': 'CONTRIBUTOR',\n",
       "  'reactions': {'url': 'https://api.github.com/repos/huggingface/datasets/issues/comments/897594128/reactions',\n",
       "   'total_count': 0,\n",
       "   '+1': 0,\n",
       "   '-1': 0,\n",
       "   'laugh': 0,\n",
       "   'hooray': 0,\n",
       "   'confused': 0,\n",
       "   'heart': 0,\n",
       "   'rocket': 0,\n",
       "   'eyes': 0},\n",
       "  'performed_via_github_app': None},\n",
       " {'url': 'https://api.github.com/repos/huggingface/datasets/issues/comments/898644889',\n",
       "  'html_url': 'https://github.com/huggingface/datasets/pull/2792#issuecomment-898644889',\n",
       "  'issue_url': 'https://api.github.com/repos/huggingface/datasets/issues/2792',\n",
       "  'id': 898644889,\n",
       "  'node_id': 'IC_kwDODunzps41kDuZ',\n",
       "  'user': {'login': 'bhavitvyamalik',\n",
       "   'id': 19718818,\n",
       "   'node_id': 'MDQ6VXNlcjE5NzE4ODE4',\n",
       "   'avatar_url': 'https://avatars.githubusercontent.com/u/19718818?v=4',\n",
       "   'gravatar_id': '',\n",
       "   'url': 'https://api.github.com/users/bhavitvyamalik',\n",
       "   'html_url': 'https://github.com/bhavitvyamalik',\n",
       "   'followers_url': 'https://api.github.com/users/bhavitvyamalik/followers',\n",
       "   'following_url': 'https://api.github.com/users/bhavitvyamalik/following{/other_user}',\n",
       "   'gists_url': 'https://api.github.com/users/bhavitvyamalik/gists{/gist_id}',\n",
       "   'starred_url': 'https://api.github.com/users/bhavitvyamalik/starred{/owner}{/repo}',\n",
       "   'subscriptions_url': 'https://api.github.com/users/bhavitvyamalik/subscriptions',\n",
       "   'organizations_url': 'https://api.github.com/users/bhavitvyamalik/orgs',\n",
       "   'repos_url': 'https://api.github.com/users/bhavitvyamalik/repos',\n",
       "   'events_url': 'https://api.github.com/users/bhavitvyamalik/events{/privacy}',\n",
       "   'received_events_url': 'https://api.github.com/users/bhavitvyamalik/received_events',\n",
       "   'type': 'User',\n",
       "   'user_view_type': 'public',\n",
       "   'site_admin': False},\n",
       "  'created_at': '2021-08-13T18:28:27Z',\n",
       "  'updated_at': '2021-08-13T18:28:27Z',\n",
       "  'body': 'Thanks for the help, @albertvillanova! All tests are passing now.',\n",
       "  'author_association': 'CONTRIBUTOR',\n",
       "  'reactions': {'url': 'https://api.github.com/repos/huggingface/datasets/issues/comments/898644889/reactions',\n",
       "   'total_count': 0,\n",
       "   '+1': 0,\n",
       "   '-1': 0,\n",
       "   'laugh': 0,\n",
       "   'hooray': 0,\n",
       "   'confused': 0,\n",
       "   'heart': 0,\n",
       "   'rocket': 0,\n",
       "   'eyes': 0},\n",
       "  'performed_via_github_app': None}]"
      ]
     },
     "execution_count": 16,
     "metadata": {},
     "output_type": "execute_result"
    }
   ],
   "source": [
    "issue_number = 2792\n",
    "url = f\"https://api.github.com/repos/huggingface/datasets/issues/{issue_number}/comments\"\n",
    "response = session.get(url, headers=headers)\n",
    "response.json()"
   ]
  },
  {
   "cell_type": "code",
   "execution_count": null,
   "id": "8d78f447",
   "metadata": {},
   "outputs": [
    {
     "data": {
      "text/plain": [
       "[\"@albertvillanova my tests are failing here:\\r\\n```\\r\\ndataset_name = 'gooaq'\\r\\n\\r\\n    def test_load_dataset(self, dataset_name):\\r\\n        configs = self.dataset_tester.load_all_configs(dataset_name, is_local=True)[:1]\\r\\n>       self.dataset_tester.check_load_dataset(dataset_name, configs, is_local=True, use_local_dummy_data=True)\\r\\n\\r\\ntests/test_dataset_common.py:234: \\r\\n_ _ _ _ _ _ _ _ _ _ _ _ _ _ _ _ _ _ _ _ _ _ _ _ _ _ _ _ _ _ _ _ _ _ _ _ _ _ _ _ \\r\\ntests/test_dataset_common.py:187: in check_load_dataset\\r\\n    self.parent.assertTrue(len(dataset[split]) > 0)\\r\\nE   AssertionError: False is not true\\r\\n```\\r\\nWhen I try loading dataset on local machine it works fine. Any suggestions on how can I avoid this error?\",\n",
       " 'Thanks for the help, @albertvillanova! All tests are passing now.']"
      ]
     },
     "execution_count": 17,
     "metadata": {},
     "output_type": "execute_result"
    }
   ],
   "source": [
    "def get_comments(issue_number):\n",
    "    url = f\"https://api.github.com/repos/huggingface/datasets/issues/{issue_number}/comments\"\n",
    "    response = session.get(url, headers=headers)\n",
    "    return [r[\"body\"] for r in response.json()]\n",
    "\n",
    "\n",
    "# Test our function works as expected\n",
    "get_comments(2792)"
   ]
  },
  {
   "cell_type": "code",
   "execution_count": null,
   "id": "6f3f425c",
   "metadata": {},
   "outputs": [
    {
     "data": {
      "application/vnd.jupyter.widget-view+json": {
       "model_id": "cfbcc0022da046b48f22c5b8a3204e0b",
       "version_major": 2,
       "version_minor": 0
      },
      "text/plain": [
       "Map:   0%|          | 0/1100 [00:00<?, ? examples/s]"
      ]
     },
     "metadata": {},
     "output_type": "display_data"
    }
   ],
   "source": [
    "# Depending on your internet connection, this can take a few minutes...\n",
    "issues_with_comments_dataset = issues_dataset.map(\n",
    "    lambda x: {\"comments\": get_comments(x[\"number\"])}\n",
    ")"
   ]
  },
  {
   "cell_type": "code",
   "execution_count": null,
   "id": "6472bf2a",
   "metadata": {},
   "outputs": [
    {
     "data": {
      "application/vnd.jupyter.widget-view+json": {
       "model_id": "e58e9437fb7341179d30a150fd9787b0",
       "version_major": 2,
       "version_minor": 0
      },
      "text/plain": [
       "VBox(children=(HTML(value='<center> <img\\nsrc=https://huggingface.co/front/assets/huggingface_logo-noborder.sv…"
      ]
     },
     "metadata": {},
     "output_type": "display_data"
    }
   ],
   "source": [
    "from huggingface_hub import notebook_login\n",
    "\n",
    "notebook_login()"
   ]
  },
  {
   "cell_type": "code",
   "execution_count": null,
   "id": "e36c9ee3",
   "metadata": {},
   "outputs": [
    {
     "data": {
      "application/vnd.jupyter.widget-view+json": {
       "model_id": "7e8fdeafbe384952849c035310582e58",
       "version_major": 2,
       "version_minor": 0
      },
      "text/plain": [
       "Uploading the dataset shards:   0%|          | 0/1 [00:00<?, ? shards/s]"
      ]
     },
     "metadata": {},
     "output_type": "display_data"
    },
    {
     "data": {
      "application/vnd.jupyter.widget-view+json": {
       "model_id": "6888b6ac17b446bc90b745b81079f3e7",
       "version_major": 2,
       "version_minor": 0
      },
      "text/plain": [
       "Creating parquet from Arrow format:   0%|          | 0/2 [00:00<?, ?ba/s]"
      ]
     },
     "metadata": {},
     "output_type": "display_data"
    },
    {
     "data": {
      "application/vnd.jupyter.widget-view+json": {
       "model_id": "afa8bb601bca48b5a90e00065f891345",
       "version_major": 2,
       "version_minor": 0
      },
      "text/plain": [
       "Processing Files (0 / 0)                : |          |  0.00B /  0.00B            "
      ]
     },
     "metadata": {},
     "output_type": "display_data"
    },
    {
     "data": {
      "application/vnd.jupyter.widget-view+json": {
       "model_id": "2be9c2ea98c34b1faf760e6941cfd850",
       "version_major": 2,
       "version_minor": 0
      },
      "text/plain": [
       "New Data Upload                         : |          |  0.00B /  0.00B            "
      ]
     },
     "metadata": {},
     "output_type": "display_data"
    },
    {
     "data": {
      "application/vnd.jupyter.widget-view+json": {
       "model_id": "2afab4e1e8c94ec4b572e5e8977aa028",
       "version_major": 2,
       "version_minor": 0
      },
      "text/plain": [
       "                                        :  67%|######6   | 1.20MB / 1.80MB            "
      ]
     },
     "metadata": {},
     "output_type": "display_data"
    },
    {
     "data": {
      "text/plain": [
       "CommitInfo(commit_url='https://huggingface.co/datasets/yiwenX/datasets-issues/commit/a43540bffe8758749c08c3a8902c2a676c091eed', commit_message='Upload dataset', commit_description='', oid='a43540bffe8758749c08c3a8902c2a676c091eed', pr_url=None, repo_url=RepoUrl('https://huggingface.co/datasets/yiwenX/datasets-issues', endpoint='https://huggingface.co', repo_type='dataset', repo_id='yiwenX/datasets-issues'), pr_revision=None, pr_num=None)"
      ]
     },
     "execution_count": 25,
     "metadata": {},
     "output_type": "execute_result"
    }
   ],
   "source": [
    "issues_with_comments_dataset.push_to_hub(\"datasets-issues\")"
   ]
  },
  {
   "cell_type": "code",
   "execution_count": 2,
   "id": "4f3d78fb",
   "metadata": {},
   "outputs": [
    {
     "data": {
      "application/vnd.jupyter.widget-view+json": {
       "model_id": "b1d3cc13a1be4781b38d2b8855c51870",
       "version_major": 2,
       "version_minor": 0
      },
      "text/plain": [
       "README.md: 0.00B [00:00, ?B/s]"
      ]
     },
     "metadata": {},
     "output_type": "display_data"
    },
    {
     "data": {
      "application/vnd.jupyter.widget-view+json": {
       "model_id": "0c0668becf3645c786557944a3f78cb0",
       "version_major": 2,
       "version_minor": 0
      },
      "text/plain": [
       "data/train-00000-of-00001.parquet:   0%|          | 0.00/1.80M [00:00<?, ?B/s]"
      ]
     },
     "metadata": {},
     "output_type": "display_data"
    },
    {
     "data": {
      "application/vnd.jupyter.widget-view+json": {
       "model_id": "21d41b8791c74ea38aafe282b8ebba7e",
       "version_major": 2,
       "version_minor": 0
      },
      "text/plain": [
       "Generating train split:   0%|          | 0/1100 [00:00<?, ? examples/s]"
      ]
     },
     "metadata": {},
     "output_type": "display_data"
    },
    {
     "data": {
      "text/plain": [
       "Dataset({\n",
       "    features: ['url', 'repository_url', 'labels_url', 'comments_url', 'events_url', 'html_url', 'id', 'node_id', 'number', 'title', 'user', 'labels', 'state', 'locked', 'assignee', 'assignees', 'milestone', 'comments', 'created_at', 'updated_at', 'closed_at', 'author_association', 'type', 'active_lock_reason', 'draft', 'pull_request', 'body', 'closed_by', 'reactions', 'timeline_url', 'performed_via_github_app', 'state_reason', 'sub_issues_summary', 'issue_dependencies_summary', 'is_pull_request'],\n",
       "    num_rows: 1100\n",
       "})"
      ]
     },
     "execution_count": 2,
     "metadata": {},
     "output_type": "execute_result"
    }
   ],
   "source": [
    "from datasets import load_dataset\n",
    "remote_dataset = load_dataset(\"yiwenX/datasets-issues\", split=\"train\")\n",
    "remote_dataset"
   ]
  },
  {
   "cell_type": "code",
   "execution_count": null,
   "id": "c02acb99",
   "metadata": {},
   "outputs": [],
   "source": []
  }
 ],
 "metadata": {
  "kernelspec": {
   "display_name": "base",
   "language": "python",
   "name": "python3"
  },
  "language_info": {
   "codemirror_mode": {
    "name": "ipython",
    "version": 3
   },
   "file_extension": ".py",
   "mimetype": "text/x-python",
   "name": "python",
   "nbconvert_exporter": "python",
   "pygments_lexer": "ipython3",
   "version": "3.12.3"
  }
 },
 "nbformat": 4,
 "nbformat_minor": 5
}
