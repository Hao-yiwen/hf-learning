{
 "cells": [
  {
   "cell_type": "code",
   "execution_count": 1,
   "id": "ab72dpy9xh5",
   "metadata": {},
   "outputs": [
    {
     "name": "stderr",
     "output_type": "stream",
     "text": [
      "/Users/haoyiwen/miniforge3/envs/d2l/lib/python3.10/site-packages/requests/__init__.py:86: RequestsDependencyWarning: Unable to find acceptable character detection dependency (chardet or charset_normalizer).\n",
      "  warnings.warn(\n",
      "\u001b[34m\u001b[1mwandb\u001b[0m: Currently logged in as: \u001b[33m1552975589\u001b[0m (\u001b[33m1552975589-none\u001b[0m) to \u001b[32mhttps://api.wandb.ai\u001b[0m. Use \u001b[1m`wandb login --relogin`\u001b[0m to force relogin\n",
      "Some weights of BertForSequenceClassification were not initialized from the model checkpoint at bert-base-uncased and are newly initialized: ['classifier.bias', 'classifier.weight']\n",
      "You should probably TRAIN this model on a down-stream task to be able to use it for predictions and inference.\n"
     ]
    },
    {
     "data": {
      "application/vnd.jupyter.widget-view+json": {
       "model_id": "8e57fa3c9aa046f9a73b854d1f91a6bb",
       "version_major": 2,
       "version_minor": 0
      },
      "text/plain": [
       "Map:   0%|          | 0/1725 [00:00<?, ? examples/s]"
      ]
     },
     "metadata": {},
     "output_type": "display_data"
    },
    {
     "name": "stdout",
     "output_type": "stream",
     "text": [
      "✅ 模型和数据集已准备就绪！\n",
      "📊 wandb 已登录，运行下一个 cell 开始训练并查看链接\n"
     ]
    }
   ],
   "source": [
    "# 导入必要的库并初始化模型\n",
    "from transformers import AutoModelForSequenceClassification, AutoTokenizer\n",
    "from transformers import DataCollatorWithPadding\n",
    "from datasets import load_dataset\n",
    "import evaluate\n",
    "import numpy as np\n",
    "import os\n",
    "import wandb\n",
    "\n",
    "# 解决 tokenizers 警告\n",
    "os.environ[\"TOKENIZERS_PARALLELISM\"] = \"false\"\n",
    "\n",
    "# 登录 wandb - 第一次运行时需要输入 API key\n",
    "# 获取 API key: https://wandb.ai/authorize\n",
    "wandb.login()\n",
    "\n",
    "# 加载 MRPC 数据集\n",
    "dataset = load_dataset(\"glue\", \"mrpc\")\n",
    "\n",
    "# 加载预训练模型和分词器\n",
    "model_name = \"bert-base-uncased\"\n",
    "model = AutoModelForSequenceClassification.from_pretrained(model_name, num_labels=2)\n",
    "tokenizer = AutoTokenizer.from_pretrained(model_name)\n",
    "\n",
    "# 数据预处理函数\n",
    "def preprocess_function(examples):\n",
    "    return tokenizer(\n",
    "        examples[\"sentence1\"], \n",
    "        examples[\"sentence2\"], \n",
    "        truncation=True, \n",
    "        padding=\"max_length\",\n",
    "        max_length=128\n",
    "    )\n",
    "\n",
    "# 对数据集进行分词\n",
    "tokenized_datasets = dataset.map(preprocess_function, batched=True)\n",
    "\n",
    "# 创建 data collator\n",
    "data_collator = DataCollatorWithPadding(tokenizer=tokenizer)\n",
    "\n",
    "# 定义评估指标\n",
    "accuracy_metric = evaluate.load(\"accuracy\")\n",
    "f1_metric = evaluate.load(\"f1\")\n",
    "\n",
    "def compute_metrics(eval_pred):\n",
    "    predictions, labels = eval_pred\n",
    "    predictions = np.argmax(predictions, axis=1)\n",
    "    \n",
    "    accuracy = accuracy_metric.compute(predictions=predictions, references=labels)\n",
    "    f1 = f1_metric.compute(predictions=predictions, references=labels)\n",
    "    \n",
    "    return {\n",
    "        \"accuracy\": accuracy[\"accuracy\"],\n",
    "        \"f1\": f1[\"f1\"]\n",
    "    }\n",
    "\n",
    "print(\"✅ 模型和数据集已准备就绪！\")\n",
    "print(\"📊 wandb 已登录，运行下一个 cell 开始训练并查看链接\")"
   ]
  },
  {
   "cell_type": "code",
   "execution_count": 2,
   "id": "1hsja3ohkbw",
   "metadata": {},
   "outputs": [
    {
     "data": {
      "text/html": [],
      "text/plain": [
       "<IPython.core.display.HTML object>"
      ]
     },
     "metadata": {},
     "output_type": "display_data"
    },
    {
     "data": {
      "text/html": [
       "Tracking run with wandb version 0.22.0"
      ],
      "text/plain": [
       "<IPython.core.display.HTML object>"
      ]
     },
     "metadata": {},
     "output_type": "display_data"
    },
    {
     "data": {
      "text/html": [
       "Run data is saved locally in <code>/Users/haoyiwen/Documents/ai/hf-learning/202509_chapter2/wandb/run-20250920_185207-6zk7aejv</code>"
      ],
      "text/plain": [
       "<IPython.core.display.HTML object>"
      ]
     },
     "metadata": {},
     "output_type": "display_data"
    },
    {
     "data": {
      "text/html": [
       "Syncing run <strong><a href='https://wandb.ai/1552975589-none/transformer-fine-tuning/runs/6zk7aejv' target=\"_blank\">bert-mrpc-training</a></strong> to <a href='https://wandb.ai/1552975589-none/transformer-fine-tuning' target=\"_blank\">Weights & Biases</a> (<a href='https://wandb.me/developer-guide' target=\"_blank\">docs</a>)<br>"
      ],
      "text/plain": [
       "<IPython.core.display.HTML object>"
      ]
     },
     "metadata": {},
     "output_type": "display_data"
    },
    {
     "data": {
      "text/html": [
       " View project at <a href='https://wandb.ai/1552975589-none/transformer-fine-tuning' target=\"_blank\">https://wandb.ai/1552975589-none/transformer-fine-tuning</a>"
      ],
      "text/plain": [
       "<IPython.core.display.HTML object>"
      ]
     },
     "metadata": {},
     "output_type": "display_data"
    },
    {
     "data": {
      "text/html": [
       " View run at <a href='https://wandb.ai/1552975589-none/transformer-fine-tuning/runs/6zk7aejv' target=\"_blank\">https://wandb.ai/1552975589-none/transformer-fine-tuning/runs/6zk7aejv</a>"
      ],
      "text/plain": [
       "<IPython.core.display.HTML object>"
      ]
     },
     "metadata": {},
     "output_type": "display_data"
    },
    {
     "name": "stdout",
     "output_type": "stream",
     "text": [
      "🔗 wandb 运行链接将在训练开始后显示...\n",
      "--------------------------------------------------\n"
     ]
    },
    {
     "name": "stderr",
     "output_type": "stream",
     "text": [
      "/var/folders/gz/0gxv2qld2094b0b1mp3z79tc0000gn/T/ipykernel_91379/4175999667.py:40: FutureWarning: `tokenizer` is deprecated and will be removed in version 5.0.0 for `Trainer.__init__`. Use `processing_class` instead.\n",
      "  trainer = Trainer(\n"
     ]
    },
    {
     "name": "stdout",
     "output_type": "stream",
     "text": [
      "🚀 开始训练...\n",
      "📊 打开上方显示的 wandb 链接查看实时图表\n",
      "--------------------------------------------------\n"
     ]
    },
    {
     "name": "stderr",
     "output_type": "stream",
     "text": [
      "/Users/haoyiwen/miniforge3/envs/d2l/lib/python3.10/site-packages/torch/utils/data/dataloader.py:684: UserWarning: 'pin_memory' argument is set as true but not supported on MPS now, then device pinned memory won't be used.\n",
      "  warnings.warn(warn_msg)\n"
     ]
    },
    {
     "data": {
      "text/html": [
       "\n",
       "    <div>\n",
       "      \n",
       "      <progress value='690' max='690' style='width:300px; height:20px; vertical-align: middle;'></progress>\n",
       "      [690/690 08:06, Epoch 3/3]\n",
       "    </div>\n",
       "    <table border=\"1\" class=\"dataframe\">\n",
       "  <thead>\n",
       " <tr style=\"text-align: left;\">\n",
       "      <th>Step</th>\n",
       "      <th>Training Loss</th>\n",
       "      <th>Validation Loss</th>\n",
       "      <th>Accuracy</th>\n",
       "      <th>F1</th>\n",
       "    </tr>\n",
       "  </thead>\n",
       "  <tbody>\n",
       "    <tr>\n",
       "      <td>50</td>\n",
       "      <td>0.675700</td>\n",
       "      <td>0.641212</td>\n",
       "      <td>0.708333</td>\n",
       "      <td>0.822653</td>\n",
       "    </tr>\n",
       "    <tr>\n",
       "      <td>100</td>\n",
       "      <td>0.558800</td>\n",
       "      <td>0.573521</td>\n",
       "      <td>0.715686</td>\n",
       "      <td>0.826347</td>\n",
       "    </tr>\n",
       "    <tr>\n",
       "      <td>150</td>\n",
       "      <td>0.531600</td>\n",
       "      <td>0.514748</td>\n",
       "      <td>0.772059</td>\n",
       "      <td>0.851200</td>\n",
       "    </tr>\n",
       "    <tr>\n",
       "      <td>200</td>\n",
       "      <td>0.519000</td>\n",
       "      <td>0.498986</td>\n",
       "      <td>0.769608</td>\n",
       "      <td>0.851735</td>\n",
       "    </tr>\n",
       "    <tr>\n",
       "      <td>250</td>\n",
       "      <td>0.328400</td>\n",
       "      <td>0.384477</td>\n",
       "      <td>0.835784</td>\n",
       "      <td>0.885470</td>\n",
       "    </tr>\n",
       "    <tr>\n",
       "      <td>300</td>\n",
       "      <td>0.317800</td>\n",
       "      <td>0.418001</td>\n",
       "      <td>0.816176</td>\n",
       "      <td>0.875622</td>\n",
       "    </tr>\n",
       "    <tr>\n",
       "      <td>350</td>\n",
       "      <td>0.327600</td>\n",
       "      <td>0.386038</td>\n",
       "      <td>0.833333</td>\n",
       "      <td>0.877698</td>\n",
       "    </tr>\n",
       "    <tr>\n",
       "      <td>400</td>\n",
       "      <td>0.237600</td>\n",
       "      <td>0.404615</td>\n",
       "      <td>0.848039</td>\n",
       "      <td>0.897351</td>\n",
       "    </tr>\n",
       "    <tr>\n",
       "      <td>450</td>\n",
       "      <td>0.319200</td>\n",
       "      <td>0.343997</td>\n",
       "      <td>0.857843</td>\n",
       "      <td>0.897887</td>\n",
       "    </tr>\n",
       "    <tr>\n",
       "      <td>500</td>\n",
       "      <td>0.180800</td>\n",
       "      <td>0.369759</td>\n",
       "      <td>0.857843</td>\n",
       "      <td>0.897527</td>\n",
       "    </tr>\n",
       "    <tr>\n",
       "      <td>550</td>\n",
       "      <td>0.139000</td>\n",
       "      <td>0.400842</td>\n",
       "      <td>0.850490</td>\n",
       "      <td>0.895726</td>\n",
       "    </tr>\n",
       "    <tr>\n",
       "      <td>600</td>\n",
       "      <td>0.156900</td>\n",
       "      <td>0.402862</td>\n",
       "      <td>0.860294</td>\n",
       "      <td>0.901554</td>\n",
       "    </tr>\n",
       "    <tr>\n",
       "      <td>650</td>\n",
       "      <td>0.163000</td>\n",
       "      <td>0.405107</td>\n",
       "      <td>0.865196</td>\n",
       "      <td>0.905009</td>\n",
       "    </tr>\n",
       "  </tbody>\n",
       "</table><p>"
      ],
      "text/plain": [
       "<IPython.core.display.HTML object>"
      ]
     },
     "metadata": {},
     "output_type": "display_data"
    },
    {
     "name": "stderr",
     "output_type": "stream",
     "text": [
      "/Users/haoyiwen/miniforge3/envs/d2l/lib/python3.10/site-packages/torch/utils/data/dataloader.py:684: UserWarning: 'pin_memory' argument is set as true but not supported on MPS now, then device pinned memory won't be used.\n",
      "  warnings.warn(warn_msg)\n",
      "/Users/haoyiwen/miniforge3/envs/d2l/lib/python3.10/site-packages/torch/utils/data/dataloader.py:684: UserWarning: 'pin_memory' argument is set as true but not supported on MPS now, then device pinned memory won't be used.\n",
      "  warnings.warn(warn_msg)\n",
      "/Users/haoyiwen/miniforge3/envs/d2l/lib/python3.10/site-packages/torch/utils/data/dataloader.py:684: UserWarning: 'pin_memory' argument is set as true but not supported on MPS now, then device pinned memory won't be used.\n",
      "  warnings.warn(warn_msg)\n",
      "/Users/haoyiwen/miniforge3/envs/d2l/lib/python3.10/site-packages/torch/utils/data/dataloader.py:684: UserWarning: 'pin_memory' argument is set as true but not supported on MPS now, then device pinned memory won't be used.\n",
      "  warnings.warn(warn_msg)\n",
      "/Users/haoyiwen/miniforge3/envs/d2l/lib/python3.10/site-packages/torch/utils/data/dataloader.py:684: UserWarning: 'pin_memory' argument is set as true but not supported on MPS now, then device pinned memory won't be used.\n",
      "  warnings.warn(warn_msg)\n",
      "/Users/haoyiwen/miniforge3/envs/d2l/lib/python3.10/site-packages/torch/utils/data/dataloader.py:684: UserWarning: 'pin_memory' argument is set as true but not supported on MPS now, then device pinned memory won't be used.\n",
      "  warnings.warn(warn_msg)\n",
      "/Users/haoyiwen/miniforge3/envs/d2l/lib/python3.10/site-packages/torch/utils/data/dataloader.py:684: UserWarning: 'pin_memory' argument is set as true but not supported on MPS now, then device pinned memory won't be used.\n",
      "  warnings.warn(warn_msg)\n",
      "/Users/haoyiwen/miniforge3/envs/d2l/lib/python3.10/site-packages/torch/utils/data/dataloader.py:684: UserWarning: 'pin_memory' argument is set as true but not supported on MPS now, then device pinned memory won't be used.\n",
      "  warnings.warn(warn_msg)\n",
      "/Users/haoyiwen/miniforge3/envs/d2l/lib/python3.10/site-packages/torch/utils/data/dataloader.py:684: UserWarning: 'pin_memory' argument is set as true but not supported on MPS now, then device pinned memory won't be used.\n",
      "  warnings.warn(warn_msg)\n",
      "/Users/haoyiwen/miniforge3/envs/d2l/lib/python3.10/site-packages/torch/utils/data/dataloader.py:684: UserWarning: 'pin_memory' argument is set as true but not supported on MPS now, then device pinned memory won't be used.\n",
      "  warnings.warn(warn_msg)\n",
      "/Users/haoyiwen/miniforge3/envs/d2l/lib/python3.10/site-packages/torch/utils/data/dataloader.py:684: UserWarning: 'pin_memory' argument is set as true but not supported on MPS now, then device pinned memory won't be used.\n",
      "  warnings.warn(warn_msg)\n",
      "/Users/haoyiwen/miniforge3/envs/d2l/lib/python3.10/site-packages/torch/utils/data/dataloader.py:684: UserWarning: 'pin_memory' argument is set as true but not supported on MPS now, then device pinned memory won't be used.\n",
      "  warnings.warn(warn_msg)\n",
      "\u001b[34m\u001b[1mwandb\u001b[0m: \u001b[33mWARNING\u001b[0m The get_url method is deprecated and will be removed in a future release. Please use `run.url` instead.\n"
     ]
    },
    {
     "name": "stdout",
     "output_type": "stream",
     "text": [
      "\n",
      "✅ 训练完成！\n",
      "📈 查看完整结果: https://wandb.ai/1552975589-none/transformer-fine-tuning/runs/6zk7aejv\n"
     ]
    },
    {
     "name": "stderr",
     "output_type": "stream",
     "text": [
      "/Users/haoyiwen/miniforge3/envs/d2l/lib/python3.10/site-packages/torch/utils/data/dataloader.py:684: UserWarning: 'pin_memory' argument is set as true but not supported on MPS now, then device pinned memory won't be used.\n",
      "  warnings.warn(warn_msg)\n"
     ]
    },
    {
     "data": {
      "text/html": [
       "\n",
       "    <div>\n",
       "      \n",
       "      <progress value='26' max='26' style='width:300px; height:20px; vertical-align: middle;'></progress>\n",
       "      [26/26 00:02]\n",
       "    </div>\n",
       "    "
      ],
      "text/plain": [
       "<IPython.core.display.HTML object>"
      ]
     },
     "metadata": {},
     "output_type": "display_data"
    },
    {
     "name": "stdout",
     "output_type": "stream",
     "text": [
      "\n",
      "📊 最终评估指标:\n",
      "  eval_loss: 0.4029\n",
      "  eval_accuracy: 0.8603\n",
      "  eval_f1: 0.9016\n",
      "  eval_runtime: 3.0678\n",
      "  eval_samples_per_second: 132.9930\n",
      "  eval_steps_per_second: 8.4750\n",
      "  epoch: 3.0000\n"
     ]
    },
    {
     "data": {
      "text/html": [],
      "text/plain": [
       "<IPython.core.display.HTML object>"
      ]
     },
     "metadata": {},
     "output_type": "display_data"
    },
    {
     "data": {
      "text/html": [
       "<br>    <style><br>        .wandb-row {<br>            display: flex;<br>            flex-direction: row;<br>            flex-wrap: wrap;<br>            justify-content: flex-start;<br>            width: 100%;<br>        }<br>        .wandb-col {<br>            display: flex;<br>            flex-direction: column;<br>            flex-basis: 100%;<br>            flex: 1;<br>            padding: 10px;<br>        }<br>    </style><br><div class=\"wandb-row\"><div class=\"wandb-col\"><h3>Run history:</h3><br/><table class=\"wandb\"><tr><td>eval/accuracy</td><td>▁▁▄▄▇▆▇▇██▇███</td></tr><tr><td>eval/f1</td><td>▁▁▃▃▆▆▆▇▇▇▇███</td></tr><tr><td>eval/loss</td><td>█▆▅▅▂▃▂▂▁▂▂▂▂▂</td></tr><tr><td>eval/runtime</td><td>▆▇▇▇▇▇▇▇█▇▂▂▁▂</td></tr><tr><td>eval/samples_per_second</td><td>▃▂▂▂▂▂▂▂▁▂▇▇█▇</td></tr><tr><td>eval/steps_per_second</td><td>▃▂▂▂▂▂▂▂▁▂▇▇█▇</td></tr><tr><td>train/epoch</td><td>▁▁▁▁▂▂▂▂▂▂▃▃▃▄▄▄▄▄▄▅▅▅▅▅▅▆▆▆▆▆▇▇▇▇▇█████</td></tr><tr><td>train/global_step</td><td>▁▁▁▂▂▂▂▂▃▃▃▃▃▃▄▄▄▅▅▅▅▅▅▅▆▆▆▆▇▇▇▇▇▇▇█████</td></tr><tr><td>train/grad_norm</td><td>▂▂▂▃▃▂▂▂▂▂▂▂▅▂▃▂▃▃▄▂▄▆▂▃▆▃▂▆▃▃█▂▄▅▆▅▃▃▂▁</td></tr><tr><td>train/learning_rate</td><td>▁▂▄▆▇█████▇▇▇▇▆▆▆▆▆▅▅▅▅▅▄▄▄▄▄▃▃▂▂▂▂▂▂▂▁▁</td></tr><tr><td>+1</td><td>...</td></tr></table><br/></div><div class=\"wandb-col\"><h3>Run summary:</h3><br/><table class=\"wandb\"><tr><td>eval/accuracy</td><td>0.86029</td></tr><tr><td>eval/f1</td><td>0.90155</td></tr><tr><td>eval/loss</td><td>0.40286</td></tr><tr><td>eval/runtime</td><td>3.0678</td></tr><tr><td>eval/samples_per_second</td><td>132.993</td></tr><tr><td>eval/steps_per_second</td><td>8.475</td></tr><tr><td>total_flos</td><td>723818513295360.0</td></tr><tr><td>train/epoch</td><td>3</td></tr><tr><td>train/global_step</td><td>690</td></tr><tr><td>train/grad_norm</td><td>1.25048</td></tr><tr><td>+6</td><td>...</td></tr></table><br/></div></div>"
      ],
      "text/plain": [
       "<IPython.core.display.HTML object>"
      ]
     },
     "metadata": {},
     "output_type": "display_data"
    },
    {
     "data": {
      "text/html": [
       " View run <strong style=\"color:#cdcd00\">bert-mrpc-training</strong> at: <a href='https://wandb.ai/1552975589-none/transformer-fine-tuning/runs/6zk7aejv' target=\"_blank\">https://wandb.ai/1552975589-none/transformer-fine-tuning/runs/6zk7aejv</a><br> View project at: <a href='https://wandb.ai/1552975589-none/transformer-fine-tuning' target=\"_blank\">https://wandb.ai/1552975589-none/transformer-fine-tuning</a><br>Synced 5 W&B file(s), 0 media file(s), 0 artifact file(s) and 0 other file(s)"
      ],
      "text/plain": [
       "<IPython.core.display.HTML object>"
      ]
     },
     "metadata": {},
     "output_type": "display_data"
    },
    {
     "data": {
      "text/html": [
       "Find logs at: <code>./wandb/run-20250920_185207-6zk7aejv/logs</code>"
      ],
      "text/plain": [
       "<IPython.core.display.HTML object>"
      ]
     },
     "metadata": {},
     "output_type": "display_data"
    }
   ],
   "source": [
    "# 开始训练并使用 wandb 追踪实验\n",
    "from transformers import Trainer, TrainingArguments\n",
    "import wandb\n",
    "\n",
    "# 初始化 wandb 项目（会生成实验链接）\n",
    "run = wandb.init(\n",
    "    project=\"transformer-fine-tuning\",  # 项目名称\n",
    "    name=\"bert-mrpc-training\",          # 本次运行的名称\n",
    "    config={                             # 记录超参数\n",
    "        \"model\": \"bert-base-uncased\",\n",
    "        \"dataset\": \"MRPC\",\n",
    "        \"epochs\": 3,\n",
    "        \"batch_size\": 16,\n",
    "        \"learning_rate\": 2e-5\n",
    "    }\n",
    ")\n",
    "\n",
    "print(\"🔗 wandb 运行链接将在训练开始后显示...\")\n",
    "print(\"-\" * 50)\n",
    "\n",
    "# 配置训练参数\n",
    "training_args = TrainingArguments(\n",
    "    output_dir=\"./results\",\n",
    "    eval_strategy=\"steps\",           # 每 N 步评估一次\n",
    "    eval_steps=50,                   # 每 50 步评估\n",
    "    save_steps=100,                  # 每 100 步保存模型\n",
    "    logging_steps=10,                # 每 10 步记录一次\n",
    "    num_train_epochs=3,              # 训练 3 个 epoch\n",
    "    per_device_train_batch_size=16,  # 批次大小\n",
    "    per_device_eval_batch_size=16,\n",
    "    learning_rate=2e-5,              # 学习率\n",
    "    warmup_steps=100,                # 预热步数\n",
    "    load_best_model_at_end=True,    # 训练结束后加载最佳模型\n",
    "    metric_for_best_model=\"f1\",     # 用 F1 分数选择最佳模型\n",
    "    report_to=\"wandb\",               # 报告给 wandb\n",
    "    logging_first_step=True,        # 记录第一步（看初始状态）\n",
    ")\n",
    "\n",
    "# 创建 Trainer\n",
    "trainer = Trainer(\n",
    "    model=model,\n",
    "    args=training_args,\n",
    "    train_dataset=tokenized_datasets[\"train\"],\n",
    "    eval_dataset=tokenized_datasets[\"validation\"],\n",
    "    data_collator=data_collator,\n",
    "    tokenizer=tokenizer,\n",
    "    compute_metrics=compute_metrics,\n",
    ")\n",
    "\n",
    "# 开始训练！\n",
    "print(\"🚀 开始训练...\")\n",
    "print(\"📊 打开上方显示的 wandb 链接查看实时图表\")\n",
    "print(\"-\" * 50)\n",
    "\n",
    "trainer.train()\n",
    "\n",
    "# 训练完成\n",
    "print(\"\\n✅ 训练完成！\")\n",
    "print(f\"📈 查看完整结果: {run.get_url()}\")\n",
    "\n",
    "# 评估最终模型\n",
    "final_metrics = trainer.evaluate()\n",
    "print(\"\\n📊 最终评估指标:\")\n",
    "for key, value in final_metrics.items():\n",
    "    print(f\"  {key}: {value:.4f}\")\n",
    "\n",
    "# 结束 wandb 运行\n",
    "wandb.finish()"
   ]
  },
  {
   "cell_type": "code",
   "execution_count": null,
   "id": "9da06575",
   "metadata": {},
   "outputs": [],
   "source": []
  }
 ],
 "metadata": {
  "kernelspec": {
   "display_name": "d2l",
   "language": "python",
   "name": "python3"
  },
  "language_info": {
   "codemirror_mode": {
    "name": "ipython",
    "version": 3
   },
   "file_extension": ".py",
   "mimetype": "text/x-python",
   "name": "python",
   "nbconvert_exporter": "python",
   "pygments_lexer": "ipython3",
   "version": "3.10.18"
  }
 },
 "nbformat": 4,
 "nbformat_minor": 5
}
