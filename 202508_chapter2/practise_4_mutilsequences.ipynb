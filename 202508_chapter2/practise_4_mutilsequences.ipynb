{
 "cells": [
  {
   "cell_type": "markdown",
   "id": "82b51c71",
   "metadata": {},
   "source": [
    "# Handling multiple sequences"
   ]
  },
  {
   "cell_type": "code",
   "execution_count": 39,
   "id": "a86d1ab9",
   "metadata": {},
   "outputs": [
    {
     "name": "stdout",
     "output_type": "stream",
     "text": [
      "{'input_ids': tensor([[  101,  1045,  1521,  2310,  2042,  3403,  2005,  1037, 17662, 12172,\n",
      "          2607,  2026,  2878,  2166,  1012,   102],\n",
      "        [  101,  1045,  5223,  2023,  2061,  2172,   999,   102,     0,     0,\n",
      "             0,     0,     0,     0,     0,     0]]), 'attention_mask': tensor([[1, 1, 1, 1, 1, 1, 1, 1, 1, 1, 1, 1, 1, 1, 1, 1],\n",
      "        [1, 1, 1, 1, 1, 1, 1, 1, 0, 0, 0, 0, 0, 0, 0, 0]])}\n",
      "Logits: tensor([[-1.5979,  1.6390],\n",
      "        [ 4.1692, -3.3464]], grad_fn=<AddmmBackward0>)\n"
     ]
    }
   ],
   "source": [
    "import torch\n",
    "from transformers import AutoTokenizer, AutoModelForSequenceClassification\n",
    "\n",
    "checkpoint = \"distilbert-base-uncased-finetuned-sst-2-english\"\n",
    "tokenizer = AutoTokenizer.from_pretrained(checkpoint)\n",
    "model = AutoModelForSequenceClassification.from_pretrained(checkpoint)\n",
    "\n",
    "sequence = [\"I’ve been waiting for a HuggingFace course my whole life.\", \"I hate this so much!\"]\n",
    "\n",
    "tokenized_inputs = tokenizer(sequence, padding=True, truncation=True, return_tensors=\"pt\")\n",
    "# print(tokenized_inputs[\"input_ids\"])\n",
    "# ids = tokenizer.convert_tokens_to_ids(tokenized_inputs)\n",
    "# print(ids)\n",
    "# input_ids = torch.tensor(tokenized_inputs[\"input_ids\"])\n",
    "# This line will fail.\n",
    "print(tokenized_inputs)\n",
    "output = model(**tokenized_inputs)\n",
    "# ids = tokenizer.convert_tokens_to_ids(tokenized_inputs)\n",
    "# print(ids)\n",
    "\n",
    "# input_ids = torch.tensor([ids])\n",
    "# print(\"Input IDs:\", input_ids)\n",
    "\n",
    "# output = model(input_ids)\n",
    "print(\"Logits:\", output.logits)\n"
   ]
  },
  {
   "cell_type": "code",
   "execution_count": 36,
   "id": "e8cddc7f",
   "metadata": {},
   "outputs": [
    {
     "name": "stdout",
     "output_type": "stream",
     "text": [
      "Logits: tensor([[ 4.1692, -3.3464]], grad_fn=<AddmmBackward0>)\n"
     ]
    }
   ],
   "source": [
    "import torch\n",
    "from transformers import AutoTokenizer, AutoModelForSequenceClassification\n",
    "\n",
    "checkpoint = \"distilbert-base-uncased-finetuned-sst-2-english\"\n",
    "tokenizer = AutoTokenizer.from_pretrained(checkpoint)\n",
    "model = AutoModelForSequenceClassification.from_pretrained(checkpoint)\n",
    "\n",
    "sequence =[ \"I hate this so much!\"]\n",
    "\n",
    "tokenized_inputs = tokenizer(sequence)\n",
    "# print(tokenized_inputs[\"input_ids\"])\n",
    "# ids = tokenizer.convert_tokens_to_ids(tokenized_inputs)\n",
    "# print(ids)\n",
    "input_ids = torch.tensor(tokenized_inputs[\"input_ids\"])\n",
    "# This line will fail.\n",
    "\n",
    "output = model(input_ids)\n",
    "# ids = tokenizer.convert_tokens_to_ids(tokenized_inputs)\n",
    "# print(ids)\n",
    "\n",
    "# input_ids = torch.tensor([ids])\n",
    "# print(\"Input IDs:\", input_ids)\n",
    "\n",
    "# output = model(input_ids)\n",
    "print(\"Logits:\", output.logits)\n"
   ]
  },
  {
   "cell_type": "code",
   "execution_count": 14,
   "id": "52dc2dbc",
   "metadata": {},
   "outputs": [
    {
     "name": "stdout",
     "output_type": "stream",
     "text": [
      "tensor([[ 1.5694, -1.3895]], grad_fn=<AddmmBackward0>)\n",
      "tensor([[ 0.5803, -0.4125]], grad_fn=<AddmmBackward0>)\n",
      "tensor([[ 1.5694, -1.3895],\n",
      "        [ 1.3374, -1.2163]], grad_fn=<AddmmBackward0>)\n"
     ]
    }
   ],
   "source": [
    "model = AutoModelForSequenceClassification.from_pretrained(checkpoint)\n",
    "\n",
    "sequence1_ids = [[200, 200, 200]]\n",
    "sequence2_ids = [[200, 200]]\n",
    "batched_ids = [\n",
    "    [200, 200, 200],\n",
    "    [200, 200, tokenizer.pad_token_id],\n",
    "]\n",
    "\n",
    "print(model(torch.tensor(sequence1_ids)).logits)\n",
    "print(model(torch.tensor(sequence2_ids)).logits)\n",
    "print(model(torch.tensor(batched_ids)).logits)"
   ]
  },
  {
   "cell_type": "code",
   "execution_count": 15,
   "id": "dac3cdef",
   "metadata": {},
   "outputs": [
    {
     "name": "stdout",
     "output_type": "stream",
     "text": [
      "tensor([[ 1.5694, -1.3895],\n",
      "        [ 0.5803, -0.4125]], grad_fn=<AddmmBackward0>)\n"
     ]
    }
   ],
   "source": [
    "batched_ids = [\n",
    "    [200, 200, 200],\n",
    "    [200, 200, tokenizer.pad_token_id],\n",
    "]\n",
    "\n",
    "attention_mask = [\n",
    "    [1, 1, 1],\n",
    "    [1, 1, 0],\n",
    "]\n",
    "\n",
    "outputs = model(torch.tensor(batched_ids), attention_mask=torch.tensor(attention_mask))\n",
    "print(outputs.logits)"
   ]
  },
  {
   "cell_type": "code",
   "execution_count": 66,
   "id": "959ec11f",
   "metadata": {},
   "outputs": [
    {
     "name": "stdout",
     "output_type": "stream",
     "text": [
      "Input IDs: tensor([[  101,  1045,  1005,  2310,  2042,  3403,  2005,  1037, 17662, 12172,\n",
      "          2607,  2026,  2878,  2166,  1012,   102],\n",
      "        [  101,  1045,  5223,  2023,  2061,  2172,   999,   102,     0,     0,\n",
      "             0,     0,     0,     0,     0,     0]])\n",
      "Logits: tensor([[-1.5607,  1.6123],\n",
      "        [ 3.4603, -2.9194]], grad_fn=<AddmmBackward0>)\n"
     ]
    }
   ],
   "source": [
    "import torch\n",
    "from transformers import AutoTokenizer, AutoModelForSequenceClassification\n",
    "\n",
    "checkpoint = \"distilbert-base-uncased-finetuned-sst-2-english\"\n",
    "tokenizer = AutoTokenizer.from_pretrained(checkpoint)\n",
    "model = AutoModelForSequenceClassification.from_pretrained(checkpoint)\n",
    "\n",
    "ids1 = tokenizer.encode(\"I've been waiting for a HuggingFace course my whole life.\")\n",
    "\n",
    "ids2 = tokenizer.encode(\"I hate this so much!\")\n",
    "# Pad the sequences to the same length\n",
    "max_length = max(len(ids1), len(ids2))\n",
    "ids1_padded = ids1 + [tokenizer.pad_token_id] * (max_length - len(ids1))\n",
    "ids2_padded = ids2 + [tokenizer.pad_token_id] * (max_length - len(ids2))\n",
    "\n",
    "input_ids = torch.tensor([ids1_padded, ids2_padded])\n",
    "attention_mask = torch.tensor([[1] * len(ids1_padded), [1] * len(ids2_padded)])\n",
    "print(\"Input IDs:\", input_ids)\n",
    "\n",
    "output = model(input_ids, attention_mask=attention_mask)\n",
    "print(\"Logits:\", output.logits)"
   ]
  },
  {
   "cell_type": "code",
   "execution_count": 65,
   "id": "2727b3dc",
   "metadata": {},
   "outputs": [
    {
     "name": "stdout",
     "output_type": "stream",
     "text": [
      "Logits: tensor([[ 4.1692, -3.3464]], grad_fn=<AddmmBackward0>)\n"
     ]
    }
   ],
   "source": [
    "import torch\n",
    "from transformers import AutoTokenizer, AutoModelForSequenceClassification\n",
    "\n",
    "checkpoint = \"distilbert-base-uncased-finetuned-sst-2-english\"\n",
    "tokenizer = AutoTokenizer.from_pretrained(checkpoint)\n",
    "model = AutoModelForSequenceClassification.from_pretrained(checkpoint)\n",
    "\n",
    "sequence =  \"I hate this so much!\"\n",
    "\n",
    "tokens = tokenizer(sequence,return_tensors=\"pt\")\n",
    "\n",
    "output = model(**tokens)\n",
    "print(\"Logits:\", output.logits)"
   ]
  },
  {
   "cell_type": "code",
   "execution_count": null,
   "id": "bdad5b6b",
   "metadata": {},
   "outputs": [],
   "source": []
  }
 ],
 "metadata": {
  "kernelspec": {
   "display_name": "hflearning",
   "language": "python",
   "name": "python3"
  },
  "language_info": {
   "codemirror_mode": {
    "name": "ipython",
    "version": 3
   },
   "file_extension": ".py",
   "mimetype": "text/x-python",
   "name": "python",
   "nbconvert_exporter": "python",
   "pygments_lexer": "ipython3",
   "version": "3.10.18"
  }
 },
 "nbformat": 4,
 "nbformat_minor": 5
}
