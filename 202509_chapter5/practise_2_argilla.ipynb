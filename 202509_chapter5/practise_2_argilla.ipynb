{
 "cells": [
  {
   "cell_type": "markdown",
   "id": "a26343e6",
   "metadata": {},
   "source": [
    "# argilla"
   ]
  },
  {
   "cell_type": "code",
   "execution_count": 1,
   "id": "2fec7b1c",
   "metadata": {},
   "outputs": [
    {
     "name": "stdout",
     "output_type": "stream",
     "text": [
      "Looking in indexes: http://mirrors.aliyun.com/pypi/simple\n",
      "Collecting argilla\n",
      "  Downloading http://mirrors.aliyun.com/pypi/packages/1a/1a/a38a528c8d5c53dd954b1699dda5efe1b6b38ee2000bed38e46e9bf0b102/argilla-2.8.0-py3-none-any.whl (161 kB)\n",
      "\u001b[2K     \u001b[90m━━━━━━━━━━━━━━━━━━━━━━━━━━━━━━━━━━━━━━━\u001b[0m \u001b[32m161.3/161.3 kB\u001b[0m \u001b[31m3.4 MB/s\u001b[0m eta \u001b[36m0:00:00\u001b[0ma \u001b[36m0:00:01\u001b[0m\n",
      "\u001b[?25hRequirement already satisfied: httpx>=0.26.0 in /root/miniconda3/lib/python3.12/site-packages (from argilla) (0.28.1)\n",
      "Requirement already satisfied: pydantic<3.0.0,>=2.6.0 in /root/miniconda3/lib/python3.12/site-packages (from argilla) (2.11.7)\n",
      "Requirement already satisfied: huggingface_hub>=0.22.0 in /root/miniconda3/lib/python3.12/site-packages (from argilla) (0.34.4)\n",
      "Requirement already satisfied: tqdm>=4.60.0 in /root/miniconda3/lib/python3.12/site-packages (from argilla) (4.67.1)\n",
      "Requirement already satisfied: rich>=10.0.0 in /root/miniconda3/lib/python3.12/site-packages (from argilla) (14.1.0)\n",
      "Requirement already satisfied: datasets>=2.0.0 in /root/miniconda3/lib/python3.12/site-packages (from argilla) (4.0.0)\n",
      "Requirement already satisfied: pillow>=9.5.0 in /root/miniconda3/lib/python3.12/site-packages (from argilla) (11.3.0)\n",
      "Collecting standardwebhooks>=1.0.0 (from argilla)\n",
      "  Downloading http://mirrors.aliyun.com/pypi/packages/48/c8/4c9705c0499c8b5ac54a082539d4cdf1c6b3977b7475d60fcb7c666efc86/standardwebhooks-1.0.0.tar.gz (4.9 kB)\n",
      "  Installing build dependencies ... \u001b[?25ldone\n",
      "\u001b[?25h  Getting requirements to build wheel ... \u001b[?25ldone\n",
      "\u001b[?25h  Preparing metadata (pyproject.toml) ... \u001b[?25ldone\n",
      "\u001b[?25hRequirement already satisfied: filelock in /root/miniconda3/lib/python3.12/site-packages (from datasets>=2.0.0->argilla) (3.18.0)\n",
      "Requirement already satisfied: numpy>=1.17 in /root/miniconda3/lib/python3.12/site-packages (from datasets>=2.0.0->argilla) (2.3.2)\n",
      "Requirement already satisfied: pyarrow>=15.0.0 in /root/miniconda3/lib/python3.12/site-packages (from datasets>=2.0.0->argilla) (21.0.0)\n",
      "Requirement already satisfied: dill<0.3.9,>=0.3.0 in /root/miniconda3/lib/python3.12/site-packages (from datasets>=2.0.0->argilla) (0.3.8)\n",
      "Requirement already satisfied: pandas in /root/miniconda3/lib/python3.12/site-packages (from datasets>=2.0.0->argilla) (2.3.2)\n",
      "Requirement already satisfied: requests>=2.32.2 in /root/miniconda3/lib/python3.12/site-packages (from datasets>=2.0.0->argilla) (2.32.5)\n",
      "Requirement already satisfied: xxhash in /root/miniconda3/lib/python3.12/site-packages (from datasets>=2.0.0->argilla) (3.5.0)\n",
      "Requirement already satisfied: multiprocess<0.70.17 in /root/miniconda3/lib/python3.12/site-packages (from datasets>=2.0.0->argilla) (0.70.16)\n",
      "Requirement already satisfied: fsspec<=2025.3.0,>=2023.1.0 in /root/miniconda3/lib/python3.12/site-packages (from fsspec[http]<=2025.3.0,>=2023.1.0->datasets>=2.0.0->argilla) (2025.3.0)\n",
      "Requirement already satisfied: packaging in /root/miniconda3/lib/python3.12/site-packages (from datasets>=2.0.0->argilla) (23.2)\n",
      "Requirement already satisfied: pyyaml>=5.1 in /root/miniconda3/lib/python3.12/site-packages (from datasets>=2.0.0->argilla) (6.0.2)\n",
      "Requirement already satisfied: anyio in /root/miniconda3/lib/python3.12/site-packages (from httpx>=0.26.0->argilla) (4.10.0)\n",
      "Requirement already satisfied: certifi in /root/miniconda3/lib/python3.12/site-packages (from httpx>=0.26.0->argilla) (2024.2.2)\n",
      "Requirement already satisfied: httpcore==1.* in /root/miniconda3/lib/python3.12/site-packages (from httpx>=0.26.0->argilla) (1.0.9)\n",
      "Requirement already satisfied: idna in /root/miniconda3/lib/python3.12/site-packages (from httpx>=0.26.0->argilla) (3.7)\n",
      "Requirement already satisfied: h11>=0.16 in /root/miniconda3/lib/python3.12/site-packages (from httpcore==1.*->httpx>=0.26.0->argilla) (0.16.0)\n",
      "Requirement already satisfied: typing-extensions>=3.7.4.3 in /root/miniconda3/lib/python3.12/site-packages (from huggingface_hub>=0.22.0->argilla) (4.14.1)\n",
      "Requirement already satisfied: hf-xet<2.0.0,>=1.1.3 in /root/miniconda3/lib/python3.12/site-packages (from huggingface_hub>=0.22.0->argilla) (1.1.9)\n",
      "Requirement already satisfied: annotated-types>=0.6.0 in /root/miniconda3/lib/python3.12/site-packages (from pydantic<3.0.0,>=2.6.0->argilla) (0.7.0)\n",
      "Requirement already satisfied: pydantic-core==2.33.2 in /root/miniconda3/lib/python3.12/site-packages (from pydantic<3.0.0,>=2.6.0->argilla) (2.33.2)\n",
      "Requirement already satisfied: typing-inspection>=0.4.0 in /root/miniconda3/lib/python3.12/site-packages (from pydantic<3.0.0,>=2.6.0->argilla) (0.4.1)\n",
      "Requirement already satisfied: markdown-it-py>=2.2.0 in /root/miniconda3/lib/python3.12/site-packages (from rich>=10.0.0->argilla) (4.0.0)\n",
      "Requirement already satisfied: pygments<3.0.0,>=2.13.0 in /root/miniconda3/lib/python3.12/site-packages (from rich>=10.0.0->argilla) (2.19.2)\n",
      "Requirement already satisfied: attrs>=21.3.0 in /root/miniconda3/lib/python3.12/site-packages (from standardwebhooks>=1.0.0->argilla) (25.3.0)\n",
      "Requirement already satisfied: python-dateutil in /root/miniconda3/lib/python3.12/site-packages (from standardwebhooks>=1.0.0->argilla) (2.9.0.post0)\n",
      "Collecting Deprecated (from standardwebhooks>=1.0.0->argilla)\n",
      "  Downloading http://mirrors.aliyun.com/pypi/packages/6e/c6/ac0b6c1e2d138f1002bcf799d330bd6d85084fece321e662a14223794041/Deprecated-1.2.18-py2.py3-none-any.whl (10.0 kB)\n",
      "Requirement already satisfied: types-python-dateutil in /root/miniconda3/lib/python3.12/site-packages (from standardwebhooks>=1.0.0->argilla) (2.9.0.20250708)\n",
      "Collecting types-Deprecated (from standardwebhooks>=1.0.0->argilla)\n",
      "  Downloading http://mirrors.aliyun.com/pypi/packages/4d/e3/c18aa72ab84e0bc127a3a94e93be1a6ac2cb281371d3a45376ab7cfdd31c/types_deprecated-1.2.15.20250304-py3-none-any.whl (8.6 kB)\n",
      "Requirement already satisfied: aiohttp!=4.0.0a0,!=4.0.0a1 in /root/miniconda3/lib/python3.12/site-packages (from fsspec[http]<=2025.3.0,>=2023.1.0->datasets>=2.0.0->argilla) (3.12.15)\n",
      "Requirement already satisfied: mdurl~=0.1 in /root/miniconda3/lib/python3.12/site-packages (from markdown-it-py>=2.2.0->rich>=10.0.0->argilla) (0.1.2)\n",
      "Requirement already satisfied: charset_normalizer<4,>=2 in /root/miniconda3/lib/python3.12/site-packages (from requests>=2.32.2->datasets>=2.0.0->argilla) (2.0.4)\n",
      "Requirement already satisfied: urllib3<3,>=1.21.1 in /root/miniconda3/lib/python3.12/site-packages (from requests>=2.32.2->datasets>=2.0.0->argilla) (2.1.0)\n",
      "Requirement already satisfied: sniffio>=1.1 in /root/miniconda3/lib/python3.12/site-packages (from anyio->httpx>=0.26.0->argilla) (1.3.1)\n",
      "Collecting wrapt<2,>=1.10 (from Deprecated->standardwebhooks>=1.0.0->argilla)\n",
      "  Downloading http://mirrors.aliyun.com/pypi/packages/9f/81/5d931d78d0eb732b95dc3ddaeeb71c8bb572fb01356e9133916cd729ecdd/wrapt-1.17.3-cp312-cp312-manylinux1_x86_64.manylinux_2_28_x86_64.manylinux_2_5_x86_64.whl (88 kB)\n",
      "\u001b[2K     \u001b[90m━━━━━━━━━━━━━━━━━━━━━━━━━━━━━━━━━━━━━━━\u001b[0m \u001b[32m88.0/88.0 kB\u001b[0m \u001b[31m372.7 kB/s\u001b[0m eta \u001b[36m0:00:00\u001b[0m \u001b[36m0:00:01\u001b[0m\n",
      "\u001b[?25hRequirement already satisfied: pytz>=2020.1 in /root/miniconda3/lib/python3.12/site-packages (from pandas->datasets>=2.0.0->argilla) (2025.2)\n",
      "Requirement already satisfied: tzdata>=2022.7 in /root/miniconda3/lib/python3.12/site-packages (from pandas->datasets>=2.0.0->argilla) (2025.2)\n",
      "Requirement already satisfied: six>=1.5 in /root/miniconda3/lib/python3.12/site-packages (from python-dateutil->standardwebhooks>=1.0.0->argilla) (1.17.0)\n",
      "Requirement already satisfied: aiohappyeyeballs>=2.5.0 in /root/miniconda3/lib/python3.12/site-packages (from aiohttp!=4.0.0a0,!=4.0.0a1->fsspec[http]<=2025.3.0,>=2023.1.0->datasets>=2.0.0->argilla) (2.6.1)\n",
      "Requirement already satisfied: aiosignal>=1.4.0 in /root/miniconda3/lib/python3.12/site-packages (from aiohttp!=4.0.0a0,!=4.0.0a1->fsspec[http]<=2025.3.0,>=2023.1.0->datasets>=2.0.0->argilla) (1.4.0)\n",
      "Requirement already satisfied: frozenlist>=1.1.1 in /root/miniconda3/lib/python3.12/site-packages (from aiohttp!=4.0.0a0,!=4.0.0a1->fsspec[http]<=2025.3.0,>=2023.1.0->datasets>=2.0.0->argilla) (1.7.0)\n",
      "Requirement already satisfied: multidict<7.0,>=4.5 in /root/miniconda3/lib/python3.12/site-packages (from aiohttp!=4.0.0a0,!=4.0.0a1->fsspec[http]<=2025.3.0,>=2023.1.0->datasets>=2.0.0->argilla) (6.6.4)\n",
      "Requirement already satisfied: propcache>=0.2.0 in /root/miniconda3/lib/python3.12/site-packages (from aiohttp!=4.0.0a0,!=4.0.0a1->fsspec[http]<=2025.3.0,>=2023.1.0->datasets>=2.0.0->argilla) (0.3.2)\n",
      "Requirement already satisfied: yarl<2.0,>=1.17.0 in /root/miniconda3/lib/python3.12/site-packages (from aiohttp!=4.0.0a0,!=4.0.0a1->fsspec[http]<=2025.3.0,>=2023.1.0->datasets>=2.0.0->argilla) (1.20.1)\n",
      "Building wheels for collected packages: standardwebhooks\n",
      "  Building wheel for standardwebhooks (pyproject.toml) ... \u001b[?25ldone\n",
      "\u001b[?25h  Created wheel for standardwebhooks: filename=standardwebhooks-1.0.0-py3-none-any.whl size=3573 sha256=8cf75847437f502e18e07fa1cdfac858b2ee8d3e6388fda22f0770c4b1949780\n",
      "  Stored in directory: /root/.cache/pip/wheels/cf/9b/f2/c580a7969ef91c332941343adf2fcc2c969b7fd3c9c8fa6add\n",
      "Successfully built standardwebhooks\n",
      "Installing collected packages: wrapt, types-Deprecated, Deprecated, standardwebhooks, argilla\n",
      "Successfully installed Deprecated-1.2.18 argilla-2.8.0 standardwebhooks-1.0.0 types-Deprecated-1.2.15.20250304 wrapt-1.17.3\n",
      "\u001b[33mWARNING: Running pip as the 'root' user can result in broken permissions and conflicting behaviour with the system package manager. It is recommended to use a virtual environment instead: https://pip.pypa.io/warnings/venv\u001b[0m\u001b[33m\n",
      "\u001b[0m"
     ]
    }
   ],
   "source": [
    "!pip install argilla"
   ]
  },
  {
   "cell_type": "code",
   "execution_count": null,
   "id": "e5f8d6ca",
   "metadata": {},
   "outputs": [],
   "source": [
    "import argilla as rg\n",
    "\n",
    "HF_TOKEN = \"xxx\"\n",
    "\n",
    "client = rg.Argilla(\n",
    "    api_url=\"https://yiwenx-my-argilla.hf.space\",\n",
    "    api_key=\"Nvs8lnmsCXMq1b6O4com7yN-cpH5eKSFpYcNx1ghajQB_dLx0-A5IW9-vCpXNhq1qRfbzixF9b9OlvTk7zaahezC7Bnzz29PKRcL9YWTHBI\",\n",
    "    headers={\"Authorization\": f\"Bearer {HF_TOKEN}\"},\n",
    ")"
   ]
  },
  {
   "cell_type": "code",
   "execution_count": 3,
   "id": "c09385c4",
   "metadata": {},
   "outputs": [
    {
     "data": {
      "text/plain": [
       "User(id=UUID('9bac15c3-1dfe-48cc-8787-618d2f538cad') inserted_at=datetime.datetime(2025, 9, 26, 8, 29, 11, 878434) updated_at=datetime.datetime(2025, 9, 26, 8, 29, 11, 878434) username='yiwenX' role=<Role.owner: 'owner'> first_name='yiwenX' last_name=None password=None)"
      ]
     },
     "execution_count": 3,
     "metadata": {},
     "output_type": "execute_result"
    }
   ],
   "source": [
    "client.me"
   ]
  },
  {
   "cell_type": "code",
   "execution_count": 4,
   "id": "3838303a",
   "metadata": {},
   "outputs": [
    {
     "data": {
      "application/vnd.jupyter.widget-view+json": {
       "model_id": "eeca51041c7541a498122de30cd7c87a",
       "version_major": 2,
       "version_minor": 0
      },
      "text/plain": [
       "train.jsonl:   0%|          | 0.00/33.8M [00:00<?, ?B/s]"
      ]
     },
     "metadata": {},
     "output_type": "display_data"
    },
    {
     "data": {
      "application/vnd.jupyter.widget-view+json": {
       "model_id": "402cbc4d92e341be8b4dfe06469a7b8b",
       "version_major": 2,
       "version_minor": 0
      },
      "text/plain": [
       "test.jsonl:   0%|          | 0.00/2.13M [00:00<?, ?B/s]"
      ]
     },
     "metadata": {},
     "output_type": "display_data"
    },
    {
     "data": {
      "application/vnd.jupyter.widget-view+json": {
       "model_id": "d20f4a1f608846e0afdb8dcbdeefe9b3",
       "version_major": 2,
       "version_minor": 0
      },
      "text/plain": [
       "Generating train split:   0%|          | 0/120000 [00:00<?, ? examples/s]"
      ]
     },
     "metadata": {},
     "output_type": "display_data"
    },
    {
     "data": {
      "application/vnd.jupyter.widget-view+json": {
       "model_id": "a742c3a8295d442db408685b437a1755",
       "version_major": 2,
       "version_minor": 0
      },
      "text/plain": [
       "Generating test split:   0%|          | 0/7600 [00:00<?, ? examples/s]"
      ]
     },
     "metadata": {},
     "output_type": "display_data"
    },
    {
     "data": {
      "text/plain": [
       "{'text': Value('string'),\n",
       " 'label': Value('int64'),\n",
       " 'label_text': Value('string')}"
      ]
     },
     "execution_count": 4,
     "metadata": {},
     "output_type": "execute_result"
    }
   ],
   "source": [
    "from datasets import load_dataset\n",
    "\n",
    "data = load_dataset(\"SetFit/ag_news\", split=\"train\")\n",
    "data.features"
   ]
  },
  {
   "cell_type": "code",
   "execution_count": 5,
   "id": "a7e2eb27",
   "metadata": {},
   "outputs": [],
   "source": [
    "settings = rg.Settings(\n",
    "    fields=[rg.TextField(name=\"text\")],\n",
    "    questions=[\n",
    "        rg.LabelQuestion(\n",
    "            name=\"label\", title=\"Classify the text:\", labels=data.unique(\"label_text\")\n",
    "        ),\n",
    "        rg.SpanQuestion(\n",
    "            name=\"entities\",\n",
    "            title=\"Highlight all the entities in the text:\",\n",
    "            labels=[\"PERSON\", \"ORG\", \"LOC\", \"EVENT\"],\n",
    "            field=\"text\",\n",
    "        ),\n",
    "    ],\n",
    ")"
   ]
  },
  {
   "cell_type": "code",
   "execution_count": 6,
   "id": "fba95137",
   "metadata": {},
   "outputs": [
    {
     "name": "stderr",
     "output_type": "stream",
     "text": [
      "/root/miniconda3/lib/python3.12/site-packages/argilla/datasets/_resource.py:264: UserWarning: Workspace not provided. Using default workspace: argilla id: 21de30ac-e415-477f-b6fd-af2c1b52aca0\n",
      "  warnings.warn(f\"Workspace not provided. Using default workspace: {workspace.name} id: {workspace.id}\")\n"
     ]
    },
    {
     "data": {
      "text/plain": [
       "Dataset(id=UUID('1dae4b66-dbaf-4077-8254-a9fb580cf9e1') inserted_at=datetime.datetime(2025, 9, 26, 8, 32, 53, 388124) updated_at=datetime.datetime(2025, 9, 26, 8, 32, 54, 775026) name='ag_news' status='ready' guidelines=None allow_extra_metadata=False distribution=OverlapTaskDistributionModel(strategy='overlap', min_submitted=1) workspace_id=UUID('21de30ac-e415-477f-b6fd-af2c1b52aca0') last_activity_at=datetime.datetime(2025, 9, 26, 8, 32, 54, 775026))"
      ]
     },
     "execution_count": 6,
     "metadata": {},
     "output_type": "execute_result"
    }
   ],
   "source": [
    "dataset = rg.Dataset(name=\"ag_news\", settings=settings)\n",
    "\n",
    "dataset.create()"
   ]
  },
  {
   "cell_type": "code",
   "execution_count": 7,
   "id": "8b8851e6",
   "metadata": {},
   "outputs": [
    {
     "name": "stderr",
     "output_type": "stream",
     "text": [
      "/root/miniconda3/lib/python3.12/site-packages/argilla/records/_io/_datasets.py:265: UserWarning: Record id column not found in Hugging Face dataset. Using row index and split for record ids.\n",
      "  warnings.warn(\n"
     ]
    },
    {
     "data": {
      "application/vnd.jupyter.widget-view+json": {
       "model_id": "76d875a31a9d451db45011335bcbdd58",
       "version_major": 2,
       "version_minor": 0
      },
      "text/plain": [
       "Map:   0%|          | 0/120000 [00:00<?, ? examples/s]"
      ]
     },
     "metadata": {},
     "output_type": "display_data"
    },
    {
     "name": "stderr",
     "output_type": "stream",
     "text": [
      "/root/miniconda3/lib/python3.12/site-packages/argilla/records/_mapping/_mapper.py:89: UserWarning: Keys ['label_text'] in data are not present in the mapping and will be ignored.\n",
      "  warnings.warn(f\"Keys {unknown_keys} in data are not present in the mapping and will be ignored.\")\n",
      "Sending records...: 469batch [21:51,  2.80s/batch]                      \n"
     ]
    },
    {
     "data": {
      "text/plain": [
       "DatasetRecords(Dataset(id=UUID('1dae4b66-dbaf-4077-8254-a9fb580cf9e1') inserted_at=datetime.datetime(2025, 9, 26, 8, 32, 53, 388124) updated_at=datetime.datetime(2025, 9, 26, 8, 32, 54, 775026) name='ag_news' status='ready' guidelines=None allow_extra_metadata=False distribution=OverlapTaskDistributionModel(strategy='overlap', min_submitted=1) workspace_id=UUID('21de30ac-e415-477f-b6fd-af2c1b52aca0') last_activity_at=datetime.datetime(2025, 9, 26, 8, 32, 54, 775026)))"
      ]
     },
     "execution_count": 7,
     "metadata": {},
     "output_type": "execute_result"
    }
   ],
   "source": [
    "dataset.records.log(data, mapping={\"label_text\": \"label\"})"
   ]
  },
  {
   "cell_type": "code",
   "execution_count": 8,
   "id": "4a1bfc5d",
   "metadata": {},
   "outputs": [],
   "source": [
    "status_filter = rg.Query(filter=rg.Filter([(\"status\", \"==\", \"completed\")]))\n",
    "\n",
    "filtered_records = dataset.records(status_filter)"
   ]
  },
  {
   "cell_type": "code",
   "execution_count": 10,
   "id": "742a225a",
   "metadata": {},
   "outputs": [
    {
     "data": {
      "application/vnd.jupyter.widget-view+json": {
       "model_id": "10d977c38d464abc82dfbdef2ec7b49a",
       "version_major": 2,
       "version_minor": 0
      },
      "text/plain": [
       "Uploading the dataset shards:   0%|          | 0/1 [00:00<?, ? shards/s]"
      ]
     },
     "metadata": {},
     "output_type": "display_data"
    },
    {
     "data": {
      "application/vnd.jupyter.widget-view+json": {
       "model_id": "12f6829858594e56839c9a236106888f",
       "version_major": 2,
       "version_minor": 0
      },
      "text/plain": [
       "Creating parquet from Arrow format: 0ba [00:00, ?ba/s]"
      ]
     },
     "metadata": {},
     "output_type": "display_data"
    },
    {
     "data": {
      "application/vnd.jupyter.widget-view+json": {
       "model_id": "008f258467024c53b36908ef409eacad",
       "version_major": 2,
       "version_minor": 0
      },
      "text/plain": [
       "Processing Files (0 / 0)                : |          |  0.00B /  0.00B            "
      ]
     },
     "metadata": {},
     "output_type": "display_data"
    },
    {
     "data": {
      "application/vnd.jupyter.widget-view+json": {
       "model_id": "6e76e86b820d42648347bc6bfe9c815c",
       "version_major": 2,
       "version_minor": 0
      },
      "text/plain": [
       "New Data Upload                         : |          |  0.00B /  0.00B            "
      ]
     },
     "metadata": {},
     "output_type": "display_data"
    },
    {
     "data": {
      "application/vnd.jupyter.widget-view+json": {
       "model_id": "7e9e4c55fc1143eaa50469f024ef686c",
       "version_major": 2,
       "version_minor": 0
      },
      "text/plain": [
       "                                        : 100%|##########|   324B /   324B            "
      ]
     },
     "metadata": {},
     "output_type": "display_data"
    },
    {
     "data": {
      "text/plain": [
       "CommitInfo(commit_url='https://huggingface.co/datasets/yiwenX/ag_news_annotated/commit/a4ec53d59c1b4c999abb6aedc42aa9a5d1be5d01', commit_message='Upload dataset', commit_description='', oid='a4ec53d59c1b4c999abb6aedc42aa9a5d1be5d01', pr_url=None, repo_url=RepoUrl('https://huggingface.co/datasets/yiwenX/ag_news_annotated', endpoint='https://huggingface.co', repo_type='dataset', repo_id='yiwenX/ag_news_annotated'), pr_revision=None, pr_num=None)"
      ]
     },
     "execution_count": 10,
     "metadata": {},
     "output_type": "execute_result"
    }
   ],
   "source": [
    "filtered_records.to_datasets().push_to_hub(\"ag_news_annotated\")"
   ]
  },
  {
   "cell_type": "code",
   "execution_count": null,
   "id": "4958712d",
   "metadata": {},
   "outputs": [],
   "source": []
  }
 ],
 "metadata": {
  "kernelspec": {
   "display_name": "base",
   "language": "python",
   "name": "python3"
  },
  "language_info": {
   "codemirror_mode": {
    "name": "ipython",
    "version": 3
   },
   "file_extension": ".py",
   "mimetype": "text/x-python",
   "name": "python",
   "nbconvert_exporter": "python",
   "pygments_lexer": "ipython3",
   "version": "3.12.3"
  }
 },
 "nbformat": 4,
 "nbformat_minor": 5
}
